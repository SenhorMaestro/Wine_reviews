{
 "cells": [
  {
   "cell_type": "code",
   "execution_count": 104,
   "metadata": {},
   "outputs": [],
   "source": [
    "import pandas as pd\n",
    "import os\n",
    "from plotnine import ggplot, aes, geom_line, geom_boxplot, geom_bar, stat_bin, xlim, ylim\n",
    "from scipy.stats import spearmanr\n",
    "from sklearn.feature_extraction.text import TfidfVectorizer\n",
    "from string import digits, punctuation\n"
   ]
  },
  {
   "attachments": {},
   "cell_type": "markdown",
   "metadata": {},
   "source": [
    "### 1.1 Загрузка данных"
   ]
  },
  {
   "cell_type": "code",
   "execution_count": 2,
   "metadata": {},
   "outputs": [],
   "source": [
    "files = os.listdir('data/')"
   ]
  },
  {
   "cell_type": "code",
   "execution_count": 3,
   "metadata": {},
   "outputs": [
    {
     "data": {
      "text/plain": [
       "['reviews_argentina.csv',\n",
       " 'reviews_lebanon.csv',\n",
       " 'reviews_croatia.csv',\n",
       " 'reviews_china.csv',\n",
       " 'reviews_bosnia_and_herzegovina.csv']"
      ]
     },
     "execution_count": 3,
     "metadata": {},
     "output_type": "execute_result"
    }
   ],
   "source": [
    "files[:5]"
   ]
  },
  {
   "cell_type": "code",
   "execution_count": 4,
   "metadata": {},
   "outputs": [],
   "source": [
    "df = pd.concat([pd.read_csv('data/'+file, sep = ';') for file in files], ignore_index=True)"
   ]
  },
  {
   "cell_type": "code",
   "execution_count": 5,
   "metadata": {},
   "outputs": [
    {
     "data": {
      "text/html": [
       "<div>\n",
       "<style scoped>\n",
       "    .dataframe tbody tr th:only-of-type {\n",
       "        vertical-align: middle;\n",
       "    }\n",
       "\n",
       "    .dataframe tbody tr th {\n",
       "        vertical-align: top;\n",
       "    }\n",
       "\n",
       "    .dataframe thead th {\n",
       "        text-align: right;\n",
       "    }\n",
       "</style>\n",
       "<table border=\"1\" class=\"dataframe\">\n",
       "  <thead>\n",
       "    <tr style=\"text-align: right;\">\n",
       "      <th></th>\n",
       "      <th>entry_id</th>\n",
       "      <th>country</th>\n",
       "      <th>description</th>\n",
       "      <th>designation</th>\n",
       "      <th>points</th>\n",
       "      <th>price</th>\n",
       "      <th>province</th>\n",
       "      <th>region</th>\n",
       "      <th>taster_name</th>\n",
       "      <th>title</th>\n",
       "      <th>variety</th>\n",
       "      <th>winery</th>\n",
       "    </tr>\n",
       "  </thead>\n",
       "  <tbody>\n",
       "    <tr>\n",
       "      <th>0</th>\n",
       "      <td>119966</td>\n",
       "      <td>Argentina</td>\n",
       "      <td>Raspberry and cassis aromas are fresh and upri...</td>\n",
       "      <td>Pedernal</td>\n",
       "      <td>90</td>\n",
       "      <td>43.0</td>\n",
       "      <td>Other</td>\n",
       "      <td>San Juan</td>\n",
       "      <td>Michael Schachner</td>\n",
       "      <td>Finca Las Moras 2010 Pedernal Malbec (San Juan)</td>\n",
       "      <td>Malbec</td>\n",
       "      <td>Finca Las Moras</td>\n",
       "    </tr>\n",
       "    <tr>\n",
       "      <th>1</th>\n",
       "      <td>119956</td>\n",
       "      <td>Argentina</td>\n",
       "      <td>Compared to the regular 2006 Malbec from Chaka...</td>\n",
       "      <td>Reserve</td>\n",
       "      <td>91</td>\n",
       "      <td>25.0</td>\n",
       "      <td>Mendoza Province</td>\n",
       "      <td>Luján de Cuyo</td>\n",
       "      <td>Michаеl Schаchnеr</td>\n",
       "      <td>Chakana 2006 Reserve Malbec (Luján de Cuyo)</td>\n",
       "      <td>Malbec</td>\n",
       "      <td>Chakana</td>\n",
       "    </tr>\n",
       "    <tr>\n",
       "      <th>2</th>\n",
       "      <td>119950</td>\n",
       "      <td>Argentina</td>\n",
       "      <td>Andeluna's top wines tend to be ripe and plump...</td>\n",
       "      <td>Pasionado</td>\n",
       "      <td>91</td>\n",
       "      <td>55.0</td>\n",
       "      <td>Mendoza Province</td>\n",
       "      <td>Uco Valley</td>\n",
       "      <td>Michael Schachner</td>\n",
       "      <td>Andeluna 2004 Pasionado Red (Uco Valley)</td>\n",
       "      <td>Red Blend</td>\n",
       "      <td>Andeluna</td>\n",
       "    </tr>\n",
       "    <tr>\n",
       "      <th>3</th>\n",
       "      <td>119943</td>\n",
       "      <td>Argentina</td>\n",
       "      <td>A lively, well-made blend of Tempranillo, Malb...</td>\n",
       "      <td>B Crux</td>\n",
       "      <td>91</td>\n",
       "      <td>24.0</td>\n",
       "      <td>Mendoza Province</td>\n",
       "      <td>Uco Valley</td>\n",
       "      <td>Michаel Schаchner</td>\n",
       "      <td>O. Fournier 2005 B Crux Red (Uco Valley)</td>\n",
       "      <td>Red Blend</td>\n",
       "      <td>O. Fournier</td>\n",
       "    </tr>\n",
       "    <tr>\n",
       "      <th>4</th>\n",
       "      <td>119939</td>\n",
       "      <td>Argentina</td>\n",
       "      <td>There is a select group of under-$20 Malbecs f...</td>\n",
       "      <td>La Madras Vineyard</td>\n",
       "      <td>91</td>\n",
       "      <td>18.0</td>\n",
       "      <td>Mendoza Province</td>\n",
       "      <td>Mendoza</td>\n",
       "      <td>Michаеl Schаchnеr</td>\n",
       "      <td>Ricardo Santos 2006 La Madras Vineyard Malbec ...</td>\n",
       "      <td>Malbec</td>\n",
       "      <td>Ricardo Santos</td>\n",
       "    </tr>\n",
       "    <tr>\n",
       "      <th>...</th>\n",
       "      <td>...</td>\n",
       "      <td>...</td>\n",
       "      <td>...</td>\n",
       "      <td>...</td>\n",
       "      <td>...</td>\n",
       "      <td>...</td>\n",
       "      <td>...</td>\n",
       "      <td>...</td>\n",
       "      <td>...</td>\n",
       "      <td>...</td>\n",
       "      <td>...</td>\n",
       "      <td>...</td>\n",
       "    </tr>\n",
       "    <tr>\n",
       "      <th>149903</th>\n",
       "      <td>31</td>\n",
       "      <td>France</td>\n",
       "      <td>Red cherry fruit comes laced with light tannin...</td>\n",
       "      <td>Nouveau</td>\n",
       "      <td>86</td>\n",
       "      <td>NaN</td>\n",
       "      <td>Beaujolais</td>\n",
       "      <td>Beaujolais-Villages</td>\n",
       "      <td>Rоger Vоss</td>\n",
       "      <td>Domaine de la Madone 2012 Nouveau  (Beaujolais...</td>\n",
       "      <td>Gamay</td>\n",
       "      <td>Domaine de la Madone</td>\n",
       "    </tr>\n",
       "    <tr>\n",
       "      <th>149904</th>\n",
       "      <td>12</td>\n",
       "      <td>France</td>\n",
       "      <td>This is a dry wine, very spicy, with a tight, ...</td>\n",
       "      <td>NaN</td>\n",
       "      <td>87</td>\n",
       "      <td>30.0</td>\n",
       "      <td>Alsace</td>\n",
       "      <td>Alsace</td>\n",
       "      <td>Roger Voss</td>\n",
       "      <td>Leon Beyer 2012 Gewurztraminer (Alsace)</td>\n",
       "      <td>Gewürztraminer</td>\n",
       "      <td>Leon Beyer</td>\n",
       "    </tr>\n",
       "    <tr>\n",
       "      <th>149905</th>\n",
       "      <td>10</td>\n",
       "      <td>France</td>\n",
       "      <td>This has great depth of flavor with its fresh ...</td>\n",
       "      <td>Les Natures</td>\n",
       "      <td>87</td>\n",
       "      <td>27.0</td>\n",
       "      <td>Alsace</td>\n",
       "      <td>Alsace</td>\n",
       "      <td>Roger Voss</td>\n",
       "      <td>Jean-Baptiste Adam 2012 Les Natures Pinot Gris...</td>\n",
       "      <td>Pinot Gris</td>\n",
       "      <td>Jean-Baptiste Adam</td>\n",
       "    </tr>\n",
       "    <tr>\n",
       "      <th>149906</th>\n",
       "      <td>8</td>\n",
       "      <td>France</td>\n",
       "      <td>This dry and restrained wine offers spice in p...</td>\n",
       "      <td>NaN</td>\n",
       "      <td>87</td>\n",
       "      <td>24.0</td>\n",
       "      <td>Alsace</td>\n",
       "      <td>Alsace</td>\n",
       "      <td>Roger Voss</td>\n",
       "      <td>Trimbach 2012 Gewurztraminer (Alsace)</td>\n",
       "      <td>Gewürztraminer</td>\n",
       "      <td>Trimbach</td>\n",
       "    </tr>\n",
       "    <tr>\n",
       "      <th>149907</th>\n",
       "      <td>8</td>\n",
       "      <td>France</td>\n",
       "      <td>This dry and restrained wine offers spice in p...</td>\n",
       "      <td>NaN</td>\n",
       "      <td>87</td>\n",
       "      <td>24.0</td>\n",
       "      <td>Alsace</td>\n",
       "      <td>Alsace</td>\n",
       "      <td>Rogеr Voss</td>\n",
       "      <td>Trimbach 2012 Gewurztraminer (Alsace)</td>\n",
       "      <td>Gewürztraminer</td>\n",
       "      <td>Trimbach</td>\n",
       "    </tr>\n",
       "  </tbody>\n",
       "</table>\n",
       "<p>149908 rows × 12 columns</p>\n",
       "</div>"
      ],
      "text/plain": [
       "        entry_id    country   \n",
       "0         119966  Argentina  \\\n",
       "1         119956  Argentina   \n",
       "2         119950  Argentina   \n",
       "3         119943  Argentina   \n",
       "4         119939  Argentina   \n",
       "...          ...        ...   \n",
       "149903        31     France   \n",
       "149904        12     France   \n",
       "149905        10     France   \n",
       "149906         8     France   \n",
       "149907         8     France   \n",
       "\n",
       "                                              description         designation   \n",
       "0       Raspberry and cassis aromas are fresh and upri...            Pedernal  \\\n",
       "1       Compared to the regular 2006 Malbec from Chaka...             Reserve   \n",
       "2       Andeluna's top wines tend to be ripe and plump...           Pasionado   \n",
       "3       A lively, well-made blend of Tempranillo, Malb...              B Crux   \n",
       "4       There is a select group of under-$20 Malbecs f...  La Madras Vineyard   \n",
       "...                                                   ...                 ...   \n",
       "149903  Red cherry fruit comes laced with light tannin...             Nouveau   \n",
       "149904  This is a dry wine, very spicy, with a tight, ...                 NaN   \n",
       "149905  This has great depth of flavor with its fresh ...         Les Natures   \n",
       "149906  This dry and restrained wine offers spice in p...                 NaN   \n",
       "149907  This dry and restrained wine offers spice in p...                 NaN   \n",
       "\n",
       "        points  price          province               region   \n",
       "0           90   43.0             Other             San Juan  \\\n",
       "1           91   25.0  Mendoza Province        Luján de Cuyo   \n",
       "2           91   55.0  Mendoza Province           Uco Valley   \n",
       "3           91   24.0  Mendoza Province           Uco Valley   \n",
       "4           91   18.0  Mendoza Province              Mendoza   \n",
       "...        ...    ...               ...                  ...   \n",
       "149903      86    NaN        Beaujolais  Beaujolais-Villages   \n",
       "149904      87   30.0            Alsace               Alsace   \n",
       "149905      87   27.0            Alsace               Alsace   \n",
       "149906      87   24.0            Alsace               Alsace   \n",
       "149907      87   24.0            Alsace               Alsace   \n",
       "\n",
       "              taster_name                                              title   \n",
       "0       Michael Schachner    Finca Las Moras 2010 Pedernal Malbec (San Juan)  \\\n",
       "1       Michаеl Schаchnеr        Chakana 2006 Reserve Malbec (Luján de Cuyo)   \n",
       "2       Michael Schachner           Andeluna 2004 Pasionado Red (Uco Valley)   \n",
       "3       Michаel Schаchner           O. Fournier 2005 B Crux Red (Uco Valley)   \n",
       "4       Michаеl Schаchnеr  Ricardo Santos 2006 La Madras Vineyard Malbec ...   \n",
       "...                   ...                                                ...   \n",
       "149903         Rоger Vоss  Domaine de la Madone 2012 Nouveau  (Beaujolais...   \n",
       "149904         Roger Voss            Leon Beyer 2012 Gewurztraminer (Alsace)   \n",
       "149905         Roger Voss  Jean-Baptiste Adam 2012 Les Natures Pinot Gris...   \n",
       "149906         Roger Voss              Trimbach 2012 Gewurztraminer (Alsace)   \n",
       "149907         Rogеr Voss              Trimbach 2012 Gewurztraminer (Alsace)   \n",
       "\n",
       "               variety                winery  \n",
       "0               Malbec       Finca Las Moras  \n",
       "1               Malbec               Chakana  \n",
       "2            Red Blend              Andeluna  \n",
       "3            Red Blend           O. Fournier  \n",
       "4               Malbec        Ricardo Santos  \n",
       "...                ...                   ...  \n",
       "149903           Gamay  Domaine de la Madone  \n",
       "149904  Gewürztraminer            Leon Beyer  \n",
       "149905      Pinot Gris    Jean-Baptiste Adam  \n",
       "149906  Gewürztraminer              Trimbach  \n",
       "149907  Gewürztraminer              Trimbach  \n",
       "\n",
       "[149908 rows x 12 columns]"
      ]
     },
     "execution_count": 5,
     "metadata": {},
     "output_type": "execute_result"
    }
   ],
   "source": [
    "df"
   ]
  },
  {
   "cell_type": "code",
   "execution_count": 6,
   "metadata": {},
   "outputs": [
    {
     "name": "stdout",
     "output_type": "stream",
     "text": [
      "<class 'pandas.core.frame.DataFrame'>\n",
      "RangeIndex: 149908 entries, 0 to 149907\n",
      "Data columns (total 12 columns):\n",
      " #   Column       Non-Null Count   Dtype  \n",
      "---  ------       --------------   -----  \n",
      " 0   entry_id     149908 non-null  int64  \n",
      " 1   country      149908 non-null  object \n",
      " 2   description  149908 non-null  object \n",
      " 3   designation  106749 non-null  object \n",
      " 4   points       149908 non-null  int64  \n",
      " 5   price        139418 non-null  float64\n",
      " 6   province     149908 non-null  object \n",
      " 7   region       125516 non-null  object \n",
      " 8   taster_name  118829 non-null  object \n",
      " 9   title        149908 non-null  object \n",
      " 10  variety      149906 non-null  object \n",
      " 11  winery       149908 non-null  object \n",
      "dtypes: float64(1), int64(2), object(9)\n",
      "memory usage: 13.7+ MB\n"
     ]
    }
   ],
   "source": [
    "df.info()"
   ]
  },
  {
   "attachments": {},
   "cell_type": "markdown",
   "metadata": {},
   "source": [
    "### 1.2 Очистка данных"
   ]
  },
  {
   "cell_type": "code",
   "execution_count": 25,
   "metadata": {},
   "outputs": [
    {
     "data": {
      "text/plain": [
       "31127"
      ]
     },
     "execution_count": 25,
     "metadata": {},
     "output_type": "execute_result"
    }
   ],
   "source": [
    "df.duplicated('title').sum()"
   ]
  },
  {
   "cell_type": "code",
   "execution_count": 42,
   "metadata": {},
   "outputs": [
    {
     "data": {
      "text/plain": [
       "30012"
      ]
     },
     "execution_count": 42,
     "metadata": {},
     "output_type": "execute_result"
    }
   ],
   "source": [
    "df.duplicated('description').sum()"
   ]
  },
  {
   "cell_type": "code",
   "execution_count": 8,
   "metadata": {},
   "outputs": [
    {
     "data": {
      "text/plain": [
       "29979"
      ]
     },
     "execution_count": 8,
     "metadata": {},
     "output_type": "execute_result"
    }
   ],
   "source": [
    "df.duplicated('entry_id').sum()"
   ]
  },
  {
   "cell_type": "code",
   "execution_count": 9,
   "metadata": {},
   "outputs": [
    {
     "data": {
      "text/plain": [
       "15847"
      ]
     },
     "execution_count": 9,
     "metadata": {},
     "output_type": "execute_result"
    }
   ],
   "source": [
    "df.duplicated().sum()"
   ]
  },
  {
   "cell_type": "code",
   "execution_count": 10,
   "metadata": {},
   "outputs": [
    {
     "data": {
      "text/plain": [
       "description                                                                                                                                                                                                                                                                                                                                                             entry_id\n",
       "\"Chremisa,\" the ancient name of Krems, is commemorated in this wine that comes from Krems vineyards. It has tight, tangy apple-driven acidity, with a bright, light, citrusy character. Not for aging.                                                                                                                                                                  89106       1\n",
       "Subtle notes of tart red apple and red currant rise from the glass. They also feature prominently on the palate where their fruit expression is heightened by lively fine fizz. The body is light and inherently fresh, making this an ideal and very appetizing apéritif.                                                                                              77367       1\n",
       "Subtle notes of orange meet freshly-cut pear flavors, amplified by some residual sugar. The richness of the palate is cut beautifully by a fresh and pure, citric acidity and a wrought phenolic structure which lends pleasant notes of subtle, enticing bitterness. There is something bittersweet about this that is touching and alluring.                          24464       1\n",
       "Subtle notes of earth mix with summer blossom, along with hints of honey, quince and zesty, fresh lemon peel. These aromas dance and take turns on the dry, balanced palate that shines both with rich fruit and slender tone. Lemony freshness pervades everything with its brightness. This is lovely now but will be even lovelier over the years. Drink 2016–2030.  74500       1\n",
       "Subtle notes of crushed mineral and lime on the nose contrast the lush tangerine and orange flavors in this off-dry, concentrated wine. It's harmoniously sweet, balanced neatly by strikes of steel and acid that tighten the finish. Drink now through 2019.                                                                                                          67659       1\n",
       "                                                                                                                                                                                                                                                                                                                                                                                   ..\n",
       "At first whiff this wine smells burnt, but that fades to show a buttered popcorn, nutty aroma. A walnut-like astringency accompanies the otherwise smooth and viscous texture.                                                                                                                                                                                          100474      2\n",
       "This is a classic red blend, with its lovely nose of pepper, spice and dark berry, and its clean, integrated spice and fruit character. Restrained but flavorful, it's a great go-to red for any meal.                                                                                                                                                                  80245       2\n",
       "At first this wine is a touch skunky and strange, but they say time heals all wounds, and such is the case here. As it unfolds in the glass the wine offers sweet berry fruit and some wood notes. The finish is a little like beets and spice, but in that there's intrigue and appeal. Good tannins and acids ensure a proper mouthfeel.                              117921      2\n",
       "This is a classic Barbaresco, offering a quintessential Nebbiolo fragrance of rose, tobacco and Alpine herbs. The palate delivers wild cherry and raspberry flavors, with notes of white pepper, mint and mineral. It boasts structure, elegance and depth.                                                                                                             89904       2\n",
       "Low in oak and high in acidity, this wine skews tart and high-strung in terms of citrus and wet stone-like notions, offering a bouquet of lemon chiffon. A nice entry and finish surround a less-intriguing middle.                                                                                                                                                     2338        2\n",
       "Name: entry_id, Length: 119929, dtype: int64"
      ]
     },
     "execution_count": 10,
     "metadata": {},
     "output_type": "execute_result"
    }
   ],
   "source": [
    "df.groupby('description')['entry_id'].value_counts().sort_values()"
   ]
  },
  {
   "cell_type": "code",
   "execution_count": 16,
   "metadata": {},
   "outputs": [
    {
     "data": {
      "text/plain": [
       "entry_id  description                                                                                                                                                                                                                                                                                              \n",
       "59997     Baga can be a shock to the palate because of its tannins. But this wine seems to have fruitiness to offset the intense, dry texture. It shows black currant and herb flavors, which come laden with spice on the finish.                                                                                     1\n",
       "63011     After starting out reduced, this cool-vintage blend of Merlot (43%), Cabernet Franc (32%), Malbec (33%) and Mourvèdre offers cranberry, herbs and chocolate. It's soft and easy drinking—a surprise given the structure often seen in this appellation—with chocolate and cherry flavors taking the lead.    1\n",
       "104278    Aromas of vanilla, mocha, dried herbs, pencil lead and flowers rise up from the glass. Rich and hedonistic in style, it's full of concentrated cherry and coffee flavors that pack a hefty punch.                                                                                                            1\n",
       "63009     Aromatically alive with the smell of anise and salumi, this is a soft, layered expression of the grape. Blended with smaller amounts of Petite Sirah, Petit Verdot, Zinfandel and Syrah, it's expressive in blackberry and blueberry fruit.                                                                  1\n",
       "63008     Round and ripe, this opens with aromas of black plum, vanilla, mocha and earthy note of tilled soil. The one-dimensional palate doles out rich blackberry, plum and espresso along with a confectionary note.                                                                                                1\n",
       "                                                                                                                                                                                                                                                                                                                      ..\n",
       "64083     Meyer lemon pith and grapefruit scents meet with sliced pear, chalk and wet slate on the nose of this bottling. The palate sizzles with acidity and tension—almost too much so—with lemon peel and tart kumquat flavors.                                                                                     2\n",
       "64095     Charmingly ripe and aromatic notes of juicy, yellow pear on nose and palate make for an ultrafriendly, easy-drinking and utterly fruit-driven wine. Drink soon to enjoy the amplified pear aromas while they're at their peak.                                                                               2\n",
       "64097     Crushed violet, iris, spiced plum and raisin aromas come together on this. The structured palate offers dried black cherry, blackberry jam, licorice and nutmeg alongside firm, fine-grained tannins. It closes on a note of roasted coffee bean.                                                            2\n",
       "64063     A slightly funky lift precedes a very crunchy light palate. There is freshness and frank up-front red-cherry fruit along with ample juiciness. This picnic-style wine will benefit from being served chilled.                                                                                                2\n",
       "119988    Big, rich and off-dry, this is powered by intense spiciness and rounded texture. Lychees dominate the fruit profile, giving an opulent feel to the aftertaste. Drink now.                                                                                                                                    2\n",
       "Name: description, Length: 119929, dtype: int64"
      ]
     },
     "execution_count": 16,
     "metadata": {},
     "output_type": "execute_result"
    }
   ],
   "source": [
    "df.groupby('entry_id')['description'].value_counts().sort_values()"
   ]
  },
  {
   "cell_type": "code",
   "execution_count": 13,
   "metadata": {},
   "outputs": [
    {
     "data": {
      "text/plain": [
       "Gloria Ferrer NV Sonoma Brut Sparkling (Sonoma County)                                       11\n",
       "Segura Viudas NV Extra Dry Sparkling (Cava)                                                  10\n",
       "Thiénot NV Brut  (Champagne)                                                                  9\n",
       "Ruinart NV Brut Rosé  (Champagne)                                                             9\n",
       "Pommery NV Brut Royal  (Champagne)                                                            8\n",
       "                                                                                             ..\n",
       "Lichen Estate 2015 Moonglow Pinot Noir (Anderson Valley)                                      1\n",
       "Martin Ranch 2014 J.D. Hurley Carignane (Santa Clara Valley)                                  1\n",
       "Maryhill 2015 Proprietor's Reserve Tudor Hills Vineyard Chardonnay (Columbia Valley (WA))     1\n",
       "Mercer 2014 Malbec (Horse Heaven Hills)                                                       1\n",
       "Alba 2005 Dry Riesling (New Jersey)                                                           1\n",
       "Name: title, Length: 118781, dtype: int64"
      ]
     },
     "execution_count": 13,
     "metadata": {},
     "output_type": "execute_result"
    }
   ],
   "source": [
    "df.title.value_counts()"
   ]
  },
  {
   "cell_type": "code",
   "execution_count": 11,
   "metadata": {},
   "outputs": [
    {
     "data": {
      "text/html": [
       "<div>\n",
       "<style scoped>\n",
       "    .dataframe tbody tr th:only-of-type {\n",
       "        vertical-align: middle;\n",
       "    }\n",
       "\n",
       "    .dataframe tbody tr th {\n",
       "        vertical-align: top;\n",
       "    }\n",
       "\n",
       "    .dataframe thead th {\n",
       "        text-align: right;\n",
       "    }\n",
       "</style>\n",
       "<table border=\"1\" class=\"dataframe\">\n",
       "  <thead>\n",
       "    <tr style=\"text-align: right;\">\n",
       "      <th></th>\n",
       "      <th>entry_id</th>\n",
       "      <th>country</th>\n",
       "      <th>description</th>\n",
       "      <th>designation</th>\n",
       "      <th>points</th>\n",
       "      <th>price</th>\n",
       "      <th>province</th>\n",
       "      <th>region</th>\n",
       "      <th>taster_name</th>\n",
       "      <th>title</th>\n",
       "      <th>variety</th>\n",
       "      <th>winery</th>\n",
       "    </tr>\n",
       "  </thead>\n",
       "  <tbody>\n",
       "    <tr>\n",
       "      <th>16346</th>\n",
       "      <td>113399</td>\n",
       "      <td>US</td>\n",
       "      <td>This bubbly is rich in cherry and raspberry fr...</td>\n",
       "      <td>Sonoma Brut</td>\n",
       "      <td>86</td>\n",
       "      <td>20.0</td>\n",
       "      <td>California</td>\n",
       "      <td>Sonoma County</td>\n",
       "      <td>NaN</td>\n",
       "      <td>Gloria Ferrer NV Sonoma Brut Sparkling (Sonoma...</td>\n",
       "      <td>Sparkling Blend</td>\n",
       "      <td>Gloria Ferrer</td>\n",
       "    </tr>\n",
       "    <tr>\n",
       "      <th>22511</th>\n",
       "      <td>101980</td>\n",
       "      <td>US</td>\n",
       "      <td>From almost 92% Pinot Noir with the remainder ...</td>\n",
       "      <td>Sonoma Brut</td>\n",
       "      <td>88</td>\n",
       "      <td>22.0</td>\n",
       "      <td>California</td>\n",
       "      <td>Sonoma County</td>\n",
       "      <td>Virginie Boone</td>\n",
       "      <td>Gloria Ferrer NV Sonoma Brut Sparkling (Sonoma...</td>\n",
       "      <td>Sparkling Blend</td>\n",
       "      <td>Gloria Ferrer</td>\n",
       "    </tr>\n",
       "    <tr>\n",
       "      <th>22512</th>\n",
       "      <td>101980</td>\n",
       "      <td>US</td>\n",
       "      <td>From almost 92% Pinot Noir with the remainder ...</td>\n",
       "      <td>Sonoma Brut</td>\n",
       "      <td>88</td>\n",
       "      <td>22.0</td>\n",
       "      <td>California</td>\n",
       "      <td>Sonoma County</td>\n",
       "      <td>Virginiе Bооnе</td>\n",
       "      <td>Gloria Ferrer NV Sonoma Brut Sparkling (Sonoma...</td>\n",
       "      <td>Sparkling Blend</td>\n",
       "      <td>Gloria Ferrer</td>\n",
       "    </tr>\n",
       "    <tr>\n",
       "      <th>26460</th>\n",
       "      <td>94739</td>\n",
       "      <td>US</td>\n",
       "      <td>A good, dry and elegant bubbly. Shows crisp fl...</td>\n",
       "      <td>Sonoma Brut</td>\n",
       "      <td>89</td>\n",
       "      <td>20.0</td>\n",
       "      <td>California</td>\n",
       "      <td>Sonoma County</td>\n",
       "      <td>NaN</td>\n",
       "      <td>Gloria Ferrer NV Sonoma Brut Sparkling (Sonoma...</td>\n",
       "      <td>Sparkling Blend</td>\n",
       "      <td>Gloria Ferrer</td>\n",
       "    </tr>\n",
       "    <tr>\n",
       "      <th>29502</th>\n",
       "      <td>89072</td>\n",
       "      <td>US</td>\n",
       "      <td>A bit rough and scouring in texture, this tast...</td>\n",
       "      <td>Sonoma Brut</td>\n",
       "      <td>85</td>\n",
       "      <td>20.0</td>\n",
       "      <td>California</td>\n",
       "      <td>Sonoma County</td>\n",
       "      <td>NaN</td>\n",
       "      <td>Gloria Ferrer NV Sonoma Brut Sparkling (Sonoma...</td>\n",
       "      <td>Sparkling Blend</td>\n",
       "      <td>Gloria Ferrer</td>\n",
       "    </tr>\n",
       "    <tr>\n",
       "      <th>35659</th>\n",
       "      <td>77448</td>\n",
       "      <td>US</td>\n",
       "      <td>This wine shows lots of finesse for the price....</td>\n",
       "      <td>Sonoma Brut</td>\n",
       "      <td>89</td>\n",
       "      <td>24.0</td>\n",
       "      <td>California</td>\n",
       "      <td>Sonoma County</td>\n",
       "      <td>NaN</td>\n",
       "      <td>Gloria Ferrer NV Sonoma Brut Sparkling (Sonoma...</td>\n",
       "      <td>Sparkling Blend</td>\n",
       "      <td>Gloria Ferrer</td>\n",
       "    </tr>\n",
       "    <tr>\n",
       "      <th>35660</th>\n",
       "      <td>77448</td>\n",
       "      <td>US</td>\n",
       "      <td>This wine shows lots of finesse for the price....</td>\n",
       "      <td>Sonoma Brut</td>\n",
       "      <td>89</td>\n",
       "      <td>24.0</td>\n",
       "      <td>California</td>\n",
       "      <td>Sonoma County</td>\n",
       "      <td>NaN</td>\n",
       "      <td>Gloria Ferrer NV Sonoma Brut Sparkling (Sonoma...</td>\n",
       "      <td>Sparkling Blend</td>\n",
       "      <td>Gloria Ferrer</td>\n",
       "    </tr>\n",
       "    <tr>\n",
       "      <th>44452</th>\n",
       "      <td>60696</td>\n",
       "      <td>US</td>\n",
       "      <td>Made from mostly Pinot Noir grapes, with an ad...</td>\n",
       "      <td>Sonoma Brut</td>\n",
       "      <td>92</td>\n",
       "      <td>22.0</td>\n",
       "      <td>California</td>\n",
       "      <td>Sonoma County</td>\n",
       "      <td>Virginiе Bооnе</td>\n",
       "      <td>Gloria Ferrer NV Sonoma Brut Sparkling (Sonoma...</td>\n",
       "      <td>Sparkling Blend</td>\n",
       "      <td>Gloria Ferrer</td>\n",
       "    </tr>\n",
       "    <tr>\n",
       "      <th>61784</th>\n",
       "      <td>27354</td>\n",
       "      <td>US</td>\n",
       "      <td>A wonderfully drinkable sparkling wine that ap...</td>\n",
       "      <td>Sonoma Brut</td>\n",
       "      <td>90</td>\n",
       "      <td>20.0</td>\n",
       "      <td>California</td>\n",
       "      <td>Sonoma County</td>\n",
       "      <td>NaN</td>\n",
       "      <td>Gloria Ferrer NV Sonoma Brut Sparkling (Sonoma...</td>\n",
       "      <td>Sparkling Blend</td>\n",
       "      <td>Gloria Ferrer</td>\n",
       "    </tr>\n",
       "    <tr>\n",
       "      <th>73612</th>\n",
       "      <td>4385</td>\n",
       "      <td>US</td>\n",
       "      <td>Made predominantly from Pinot Noir, this is an...</td>\n",
       "      <td>Sonoma Brut</td>\n",
       "      <td>88</td>\n",
       "      <td>22.0</td>\n",
       "      <td>California</td>\n",
       "      <td>Sonoma County</td>\n",
       "      <td>Virginie Boone</td>\n",
       "      <td>Gloria Ferrer NV Sonoma Brut Sparkling (Sonoma...</td>\n",
       "      <td>Sparkling Blend</td>\n",
       "      <td>Gloria Ferrer</td>\n",
       "    </tr>\n",
       "    <tr>\n",
       "      <th>74266</th>\n",
       "      <td>3203</td>\n",
       "      <td>US</td>\n",
       "      <td>Creamy, lush and somewhat robust, this dry spa...</td>\n",
       "      <td>Sonoma Brut</td>\n",
       "      <td>90</td>\n",
       "      <td>22.0</td>\n",
       "      <td>California</td>\n",
       "      <td>Sonoma County</td>\n",
       "      <td>Virginie Boone</td>\n",
       "      <td>Gloria Ferrer NV Sonoma Brut Sparkling (Sonoma...</td>\n",
       "      <td>Sparkling Blend</td>\n",
       "      <td>Gloria Ferrer</td>\n",
       "    </tr>\n",
       "  </tbody>\n",
       "</table>\n",
       "</div>"
      ],
      "text/plain": [
       "       entry_id country                                        description  \\\n",
       "16346    113399      US  This bubbly is rich in cherry and raspberry fr...   \n",
       "22511    101980      US  From almost 92% Pinot Noir with the remainder ...   \n",
       "22512    101980      US  From almost 92% Pinot Noir with the remainder ...   \n",
       "26460     94739      US  A good, dry and elegant bubbly. Shows crisp fl...   \n",
       "29502     89072      US  A bit rough and scouring in texture, this tast...   \n",
       "35659     77448      US  This wine shows lots of finesse for the price....   \n",
       "35660     77448      US  This wine shows lots of finesse for the price....   \n",
       "44452     60696      US  Made from mostly Pinot Noir grapes, with an ad...   \n",
       "61784     27354      US  A wonderfully drinkable sparkling wine that ap...   \n",
       "73612      4385      US  Made predominantly from Pinot Noir, this is an...   \n",
       "74266      3203      US  Creamy, lush and somewhat robust, this dry spa...   \n",
       "\n",
       "       designation  points  price    province         region     taster_name  \\\n",
       "16346  Sonoma Brut      86   20.0  California  Sonoma County             NaN   \n",
       "22511  Sonoma Brut      88   22.0  California  Sonoma County  Virginie Boone   \n",
       "22512  Sonoma Brut      88   22.0  California  Sonoma County  Virginiе Bооnе   \n",
       "26460  Sonoma Brut      89   20.0  California  Sonoma County             NaN   \n",
       "29502  Sonoma Brut      85   20.0  California  Sonoma County             NaN   \n",
       "35659  Sonoma Brut      89   24.0  California  Sonoma County             NaN   \n",
       "35660  Sonoma Brut      89   24.0  California  Sonoma County             NaN   \n",
       "44452  Sonoma Brut      92   22.0  California  Sonoma County  Virginiе Bооnе   \n",
       "61784  Sonoma Brut      90   20.0  California  Sonoma County             NaN   \n",
       "73612  Sonoma Brut      88   22.0  California  Sonoma County  Virginie Boone   \n",
       "74266  Sonoma Brut      90   22.0  California  Sonoma County  Virginie Boone   \n",
       "\n",
       "                                                   title          variety  \\\n",
       "16346  Gloria Ferrer NV Sonoma Brut Sparkling (Sonoma...  Sparkling Blend   \n",
       "22511  Gloria Ferrer NV Sonoma Brut Sparkling (Sonoma...  Sparkling Blend   \n",
       "22512  Gloria Ferrer NV Sonoma Brut Sparkling (Sonoma...  Sparkling Blend   \n",
       "26460  Gloria Ferrer NV Sonoma Brut Sparkling (Sonoma...  Sparkling Blend   \n",
       "29502  Gloria Ferrer NV Sonoma Brut Sparkling (Sonoma...  Sparkling Blend   \n",
       "35659  Gloria Ferrer NV Sonoma Brut Sparkling (Sonoma...  Sparkling Blend   \n",
       "35660  Gloria Ferrer NV Sonoma Brut Sparkling (Sonoma...  Sparkling Blend   \n",
       "44452  Gloria Ferrer NV Sonoma Brut Sparkling (Sonoma...  Sparkling Blend   \n",
       "61784  Gloria Ferrer NV Sonoma Brut Sparkling (Sonoma...  Sparkling Blend   \n",
       "73612  Gloria Ferrer NV Sonoma Brut Sparkling (Sonoma...  Sparkling Blend   \n",
       "74266  Gloria Ferrer NV Sonoma Brut Sparkling (Sonoma...  Sparkling Blend   \n",
       "\n",
       "              winery  \n",
       "16346  Gloria Ferrer  \n",
       "22511  Gloria Ferrer  \n",
       "22512  Gloria Ferrer  \n",
       "26460  Gloria Ferrer  \n",
       "29502  Gloria Ferrer  \n",
       "35659  Gloria Ferrer  \n",
       "35660  Gloria Ferrer  \n",
       "44452  Gloria Ferrer  \n",
       "61784  Gloria Ferrer  \n",
       "73612  Gloria Ferrer  \n",
       "74266  Gloria Ferrer  "
      ]
     },
     "execution_count": 11,
     "metadata": {},
     "output_type": "execute_result"
    }
   ],
   "source": [
    "df[df['title'] == 'Gloria Ferrer NV Sonoma Brut Sparkling (Sonoma County)']"
   ]
  },
  {
   "attachments": {},
   "cell_type": "markdown",
   "metadata": {},
   "source": [
    "Дупликаты определяем по description"
   ]
  },
  {
   "cell_type": "code",
   "execution_count": 15,
   "metadata": {},
   "outputs": [
    {
     "data": {
      "text/html": [
       "<div>\n",
       "<style scoped>\n",
       "    .dataframe tbody tr th:only-of-type {\n",
       "        vertical-align: middle;\n",
       "    }\n",
       "\n",
       "    .dataframe tbody tr th {\n",
       "        vertical-align: top;\n",
       "    }\n",
       "\n",
       "    .dataframe thead th {\n",
       "        text-align: right;\n",
       "    }\n",
       "</style>\n",
       "<table border=\"1\" class=\"dataframe\">\n",
       "  <thead>\n",
       "    <tr style=\"text-align: right;\">\n",
       "      <th></th>\n",
       "      <th>entry_id</th>\n",
       "      <th>country</th>\n",
       "      <th>description</th>\n",
       "      <th>designation</th>\n",
       "      <th>points</th>\n",
       "      <th>price</th>\n",
       "      <th>province</th>\n",
       "      <th>region</th>\n",
       "      <th>taster_name</th>\n",
       "      <th>title</th>\n",
       "      <th>variety</th>\n",
       "      <th>winery</th>\n",
       "    </tr>\n",
       "  </thead>\n",
       "  <tbody>\n",
       "    <tr>\n",
       "      <th>127997</th>\n",
       "      <td>102849</td>\n",
       "      <td>France</td>\n",
       "      <td>“Today, as in the past,” reads the title of th...</td>\n",
       "      <td>Aujourd'hui comme Autrefois</td>\n",
       "      <td>92</td>\n",
       "      <td>28.0</td>\n",
       "      <td>Loire Valley</td>\n",
       "      <td>Sancerre</td>\n",
       "      <td>Rоger Vоss</td>\n",
       "      <td>Hubert Brochard 2012 Aujourd'hui comme Autrefo...</td>\n",
       "      <td>Sauvignon Blanc</td>\n",
       "      <td>Hubert Brochard</td>\n",
       "    </tr>\n",
       "    <tr>\n",
       "      <th>127998</th>\n",
       "      <td>102849</td>\n",
       "      <td>France</td>\n",
       "      <td>“Today, as in the past,” reads the title of th...</td>\n",
       "      <td>Aujourd'hui comme Autrefois</td>\n",
       "      <td>92</td>\n",
       "      <td>28.0</td>\n",
       "      <td>Loire Valley</td>\n",
       "      <td>Sancerre</td>\n",
       "      <td>Rоger Vоss</td>\n",
       "      <td>Hubert Brochard 2012 Aujourd'hui comme Autrefo...</td>\n",
       "      <td>Sauvignon Blanc</td>\n",
       "      <td>Hubert Brochard</td>\n",
       "    </tr>\n",
       "  </tbody>\n",
       "</table>\n",
       "</div>"
      ],
      "text/plain": [
       "        entry_id country                                        description  \\\n",
       "127997    102849  France  “Today, as in the past,” reads the title of th...   \n",
       "127998    102849  France  “Today, as in the past,” reads the title of th...   \n",
       "\n",
       "                        designation  points  price      province    region  \\\n",
       "127997  Aujourd'hui comme Autrefois      92   28.0  Loire Valley  Sancerre   \n",
       "127998  Aujourd'hui comme Autrefois      92   28.0  Loire Valley  Sancerre   \n",
       "\n",
       "       taster_name                                              title  \\\n",
       "127997  Rоger Vоss  Hubert Brochard 2012 Aujourd'hui comme Autrefo...   \n",
       "127998  Rоger Vоss  Hubert Brochard 2012 Aujourd'hui comme Autrefo...   \n",
       "\n",
       "                variety           winery  \n",
       "127997  Sauvignon Blanc  Hubert Brochard  \n",
       "127998  Sauvignon Blanc  Hubert Brochard  "
      ]
     },
     "execution_count": 15,
     "metadata": {},
     "output_type": "execute_result"
    }
   ],
   "source": [
    "df[df['entry_id'] == 102849]"
   ]
  },
  {
   "cell_type": "code",
   "execution_count": 20,
   "metadata": {},
   "outputs": [
    {
     "data": {
      "text/html": [
       "<div>\n",
       "<style scoped>\n",
       "    .dataframe tbody tr th:only-of-type {\n",
       "        vertical-align: middle;\n",
       "    }\n",
       "\n",
       "    .dataframe tbody tr th {\n",
       "        vertical-align: top;\n",
       "    }\n",
       "\n",
       "    .dataframe thead th {\n",
       "        text-align: right;\n",
       "    }\n",
       "</style>\n",
       "<table border=\"1\" class=\"dataframe\">\n",
       "  <thead>\n",
       "    <tr style=\"text-align: right;\">\n",
       "      <th></th>\n",
       "      <th>entry_id</th>\n",
       "      <th>country</th>\n",
       "      <th>description</th>\n",
       "      <th>designation</th>\n",
       "      <th>points</th>\n",
       "      <th>price</th>\n",
       "      <th>province</th>\n",
       "      <th>region</th>\n",
       "      <th>taster_name</th>\n",
       "      <th>title</th>\n",
       "      <th>variety</th>\n",
       "      <th>winery</th>\n",
       "    </tr>\n",
       "  </thead>\n",
       "  <tbody>\n",
       "    <tr>\n",
       "      <th>124469</th>\n",
       "      <td>119988</td>\n",
       "      <td>France</td>\n",
       "      <td>Big, rich and off-dry, this is powered by inte...</td>\n",
       "      <td>Lieu-dit Harth Cuvée Caroline</td>\n",
       "      <td>90</td>\n",
       "      <td>21.0</td>\n",
       "      <td>Alsace</td>\n",
       "      <td>Alsace</td>\n",
       "      <td>Rоgеr Vоss</td>\n",
       "      <td>Domaine Schoffit 2012 Lieu-dit Harth Cuvée Car...</td>\n",
       "      <td>Gewürztraminer</td>\n",
       "      <td>Domaine Schoffit</td>\n",
       "    </tr>\n",
       "    <tr>\n",
       "      <th>124470</th>\n",
       "      <td>119988</td>\n",
       "      <td>France</td>\n",
       "      <td>Big, rich and off-dry, this is powered by inte...</td>\n",
       "      <td>Lieu-dit Harth Cuvée Caroline</td>\n",
       "      <td>90</td>\n",
       "      <td>21.0</td>\n",
       "      <td>Alsace</td>\n",
       "      <td>Alsace</td>\n",
       "      <td>Roger Voss</td>\n",
       "      <td>Domaine Schoffit 2012 Lieu-dit Harth Cuvée Car...</td>\n",
       "      <td>Gewürztraminer</td>\n",
       "      <td>Domaine Schoffit</td>\n",
       "    </tr>\n",
       "  </tbody>\n",
       "</table>\n",
       "</div>"
      ],
      "text/plain": [
       "        entry_id country                                        description  \\\n",
       "124469    119988  France  Big, rich and off-dry, this is powered by inte...   \n",
       "124470    119988  France  Big, rich and off-dry, this is powered by inte...   \n",
       "\n",
       "                          designation  points  price province  region  \\\n",
       "124469  Lieu-dit Harth Cuvée Caroline      90   21.0   Alsace  Alsace   \n",
       "124470  Lieu-dit Harth Cuvée Caroline      90   21.0   Alsace  Alsace   \n",
       "\n",
       "       taster_name                                              title  \\\n",
       "124469  Rоgеr Vоss  Domaine Schoffit 2012 Lieu-dit Harth Cuvée Car...   \n",
       "124470  Roger Voss  Domaine Schoffit 2012 Lieu-dit Harth Cuvée Car...   \n",
       "\n",
       "               variety            winery  \n",
       "124469  Gewürztraminer  Domaine Schoffit  \n",
       "124470  Gewürztraminer  Domaine Schoffit  "
      ]
     },
     "execution_count": 20,
     "metadata": {},
     "output_type": "execute_result"
    }
   ],
   "source": [
    "df[df['entry_id'] == 119988]"
   ]
  },
  {
   "cell_type": "code",
   "execution_count": 21,
   "metadata": {},
   "outputs": [
    {
     "data": {
      "text/html": [
       "<div>\n",
       "<style scoped>\n",
       "    .dataframe tbody tr th:only-of-type {\n",
       "        vertical-align: middle;\n",
       "    }\n",
       "\n",
       "    .dataframe tbody tr th {\n",
       "        vertical-align: top;\n",
       "    }\n",
       "\n",
       "    .dataframe thead th {\n",
       "        text-align: right;\n",
       "    }\n",
       "</style>\n",
       "<table border=\"1\" class=\"dataframe\">\n",
       "  <thead>\n",
       "    <tr style=\"text-align: right;\">\n",
       "      <th></th>\n",
       "      <th>entry_id</th>\n",
       "      <th>country</th>\n",
       "      <th>description</th>\n",
       "      <th>designation</th>\n",
       "      <th>points</th>\n",
       "      <th>price</th>\n",
       "      <th>province</th>\n",
       "      <th>region</th>\n",
       "      <th>taster_name</th>\n",
       "      <th>title</th>\n",
       "      <th>variety</th>\n",
       "      <th>winery</th>\n",
       "    </tr>\n",
       "  </thead>\n",
       "  <tbody>\n",
       "    <tr>\n",
       "      <th>74363</th>\n",
       "      <td>3016</td>\n",
       "      <td>US</td>\n",
       "      <td>“Rhône times three” seems to be the code name ...</td>\n",
       "      <td>Rx-3 Red Wine</td>\n",
       "      <td>92</td>\n",
       "      <td>30.0</td>\n",
       "      <td>Washington</td>\n",
       "      <td>Columbia Valley (WA)</td>\n",
       "      <td>Paul Gregutt</td>\n",
       "      <td>Nefarious 2010 Rx-3 Red Wine Red (Columbia Val...</td>\n",
       "      <td>Rhône-style Red Blend</td>\n",
       "      <td>Nefarious</td>\n",
       "    </tr>\n",
       "    <tr>\n",
       "      <th>74364</th>\n",
       "      <td>3016</td>\n",
       "      <td>US</td>\n",
       "      <td>“Rhône times three” seems to be the code name ...</td>\n",
       "      <td>Rx-3 Red Wine</td>\n",
       "      <td>92</td>\n",
       "      <td>30.0</td>\n",
       "      <td>Washington</td>\n",
       "      <td>Columbia Valley (WA)</td>\n",
       "      <td>Pаul Grеgutt</td>\n",
       "      <td>Nefarious 2010 Rx-3 Red Wine Red (Columbia Val...</td>\n",
       "      <td>Rhône-style Red Blend</td>\n",
       "      <td>Nefarious</td>\n",
       "    </tr>\n",
       "  </tbody>\n",
       "</table>\n",
       "</div>"
      ],
      "text/plain": [
       "       entry_id country                                        description  \\\n",
       "74363      3016      US  “Rhône times three” seems to be the code name ...   \n",
       "74364      3016      US  “Rhône times three” seems to be the code name ...   \n",
       "\n",
       "         designation  points  price    province                region  \\\n",
       "74363  Rx-3 Red Wine      92   30.0  Washington  Columbia Valley (WA)   \n",
       "74364  Rx-3 Red Wine      92   30.0  Washington  Columbia Valley (WA)   \n",
       "\n",
       "        taster_name                                              title  \\\n",
       "74363  Paul Gregutt  Nefarious 2010 Rx-3 Red Wine Red (Columbia Val...   \n",
       "74364  Pаul Grеgutt  Nefarious 2010 Rx-3 Red Wine Red (Columbia Val...   \n",
       "\n",
       "                     variety     winery  \n",
       "74363  Rhône-style Red Blend  Nefarious  \n",
       "74364  Rhône-style Red Blend  Nefarious  "
      ]
     },
     "execution_count": 21,
     "metadata": {},
     "output_type": "execute_result"
    }
   ],
   "source": [
    "df[df['entry_id'] == 3016]"
   ]
  },
  {
   "cell_type": "code",
   "execution_count": 50,
   "metadata": {},
   "outputs": [
    {
     "data": {
      "text/plain": [
       "description                                                                                                                                                                                                                                                                                                                                                                                                                 entry_id  country  designation                                  points  price  province        region                taster_name         title                                                                                              variety                winery         \n",
       "). Earth, cola and leather aromas are good, however the fruit portion of the bouquet is a bit damp and roasted. The palate is hard and rugged, with driving cherry and plum flavors. Earthy and herbal on the finish.                                                                                                                                                                                                       117409    Spain    Finca Resalso                                86      15.0   Northern Spain  Ribera del Duero      Michael Schachner   Emilio Moro 2009 Finca Resalso  (Ribera del Duero)                                                 Tinto Fino             Emilio Moro        1\n",
       "). Savory on the nose with scents of pressed apple and honey comb, this fairly dry Riesling is surprisingly round and rich on the palate with a lush, floral profile balanced by hints of wax and lanolin and a tart lime juice acidity.                                                                                                                                                                                    65942     US       Reserve                                      85      16.0   New York        Finger Lakes          Annа Lee C. Iijimа  Fulkerson 2009 Reserve Riesling (Finger Lakes)                                                     Riesling               Fulkerson          1\n",
       ". A delightfully intriguing “White Burgundy” blend of Chardonnay, Pinot Blanc and Pinot Meunier, the last an unexpected surprise, the fruit sourced from both the Sangiacomo and Yountmill vineyards. The wine is light and yet lush, with an inviting nose of sweet apricot and apple pie, and a roundness to the mouthfeel. This would pair nicely with a buttery halibut but also stand well on its own as an apéritif.  59857     US       White Burgundy                               90      29.0   California      North Coast           Virginiе Boonе      Imagery 2009 White Burgundy White (North Coast)                                                    White Blend            Imagery            1\n",
       ". Its mouthfeel smacks hard with acidity, leaving a crisp expression of strawberry, raspberry and herb flavors. It turns warm, lactic and chocolaty on the finish.                                                                                                                                                                                                                                                          91019     Spain    Veraz                                        84      8.0    Northern Spain  Campo de Borja        Michael Schachner   Bodegas Aletta 2010 Veraz Garnacha (Campo de Borja)                                                Garnacha               Bodegas Aletta     1\n",
       "100% Cabernet Sauvignon from Wallula Vineyard, this brooding wine screams of the Horse Heaven Hills with notes of dusty earth, black currant, and bittersweet chocolate. It's tightly coiled and largely about structure with its firm tannins supporting concentrated cherry flavors. Needs time to come into its own but has the stuffing to lay down for a decade or more.                                               82883     US       Andreas Cabernet Sauvignon Wallula Vineyard  92      80.0   Washington      Horse Heaven Hills    Sean P. Sullivan    Den Hoed 2009 Andreas Cabernet Sauvignon Wallula Vineyard Cabernet Sauvignon (Horse Heaven Hills)  Cabernet Sauvignon     Den Hoed           1\n",
       "                                                                                                                                                                                                                                                                                                                                                                                                                                                                                                                                                                                                                                                                                                                 ..\n",
       "“Rhône times three” seems to be the code name for this classy blend of Grenache, Mourvèdre and Syrah. It takes the best from each grape, creating a rich, pure, high-acid wine with a zingy berry flavor, plus a mineral underpinning and earthy, coffee-soaked tannins.                                                                                                                                                    3016      US       Rx-3 Red Wine                                92      30.0   Washington      Columbia Valley (WA)  Paul Gregutt        Nefarious 2010 Rx-3 Red Wine Red (Columbia Valley (WA))                                            Rhône-style Red Blend  Nefarious          1\n",
       "                                                                                                                                                                                                                                                                                                                                                                                                                                                                                                                                                 Pаul Grеgutt        Nefarious 2010 Rx-3 Red Wine Red (Columbia Valley (WA))                                            Rhône-style Red Blend  Nefarious          1\n",
       "“Roble” means oak and there's no shortage of oak on this youngster. The nose smells almost like melted cheese and bread at first, but then it settles and lets out subtle leather and fruit aromas. The palate is juicy and fresh, with forward black cherry and plum flavors. Definitely lively, and with no tricks up its sleeve.                                                                                         68810     Spain    Roble                                        86      16.0   Northern Spain  Ribera del Duero      Michael Schachner   Costaval 2006 Roble  (Ribera del Duero)                                                            Tempranillo Blend      Costaval           1\n",
       "“Today, as in the past,” reads the title of this wine. Rich and full, it was aged on the lees to give extra weight and body. The result is ripe with yellow fruits as well as citrus, with full-bodied flavor. It could well age until 2015.                                                                                                                                                                                102849    France   Aujourd'hui comme Autrefois                  92      28.0   Loire Valley    Sancerre              Rоger Vоss          Hubert Brochard 2012 Aujourd'hui comme Autrefois  (Sancerre)                                       Sauvignon Blanc        Hubert Brochard    2\n",
       "“Wow” is the first word that comes to mind when tasting this superconcentrated and immensely fruity wine. It practically overwhelms the nose and the palate with ripe, jammy boysenberry and blackberry, sprinkled with licorice and black-pepper nuances that add attractive complexity. It's a big wine all the way, but not extreme in alcohol.                                                                          8264      US       Old Vine                                     92      18.0   California      Mendocino County      Jim Gordon          Artezin 2014 Old Vine Zinfandel (Mendocino County)                                                 Zinfandel              Artezin            1\n",
       "Length: 56871, dtype: int64"
      ]
     },
     "execution_count": 50,
     "metadata": {},
     "output_type": "execute_result"
    }
   ],
   "source": [
    "df.groupby('description').value_counts()"
   ]
  },
  {
   "cell_type": "code",
   "execution_count": 7,
   "metadata": {},
   "outputs": [
    {
     "data": {
      "text/plain": [
       "31079"
      ]
     },
     "execution_count": 7,
     "metadata": {},
     "output_type": "execute_result"
    }
   ],
   "source": [
    "df['taster_name'].isnull().sum()"
   ]
  },
  {
   "cell_type": "code",
   "execution_count": 8,
   "metadata": {},
   "outputs": [],
   "source": [
    "df['taster_name'] = df['taster_name'].apply(lambda x: str(x).translate(str.maketrans('аео', 'aeo')))"
   ]
  },
  {
   "cell_type": "code",
   "execution_count": 9,
   "metadata": {},
   "outputs": [
    {
     "data": {
      "text/plain": [
       "29979"
      ]
     },
     "execution_count": 9,
     "metadata": {},
     "output_type": "execute_result"
    }
   ],
   "source": [
    "df.duplicated().sum()"
   ]
  },
  {
   "cell_type": "code",
   "execution_count": 10,
   "metadata": {},
   "outputs": [
    {
     "data": {
      "text/plain": [
       "29979"
      ]
     },
     "execution_count": 10,
     "metadata": {},
     "output_type": "execute_result"
    }
   ],
   "source": [
    "df.duplicated('entry_id').sum()"
   ]
  },
  {
   "cell_type": "code",
   "execution_count": 54,
   "metadata": {},
   "outputs": [
    {
     "data": {
      "text/plain": [
       "Here's an unusual white from Sicily made with red Nero d'Avola grapes. It has a subdued floral fragrance and a linear palate showing citrus notes, white pepper and bracing acidity.                                                                                                                                       2\n",
       "The aromas in this juicy Dolcetto suggest black cherry, violet and toasted almond while the palate offers ripe blackberry, white pepper and clove flavors. Rounded tannins provide support. Enjoy soon.                                                                                                                    2\n",
       "Doesn't taste fully ripe, with a wintergreen, minty edge to the raspberries and cherries. Sugary sweet in the finish, too. Shows the difficulties of this extremely cool vintage.                                                                                                                                          2\n",
       "92–94. Barrel sample. With so much spicy fruit, intensely ripe blackberry flavors and solid tannins, all the elements of excellence are here, and powered by a firm structure. This wine has weight and a fine Cabernet concentration.                                                                                     3\n",
       "Gravenstein apple, honeysuckle and jasmine aromas show on the relatively boisterous nose of this bottling from a large vineyard on Highway 46 east of Paso Robles. There is compellingly grippy texture to the sip, with ripe flavors of pear and honeydew melon. A salty acidity takes it to the next level.              3\n",
       "Green bell pepper, red currant and dark spice aromas lead the nose while the savory palate offers ground black pepper, black cherry, dill and mineral. A blast of blood orange backs up the finish.                                                                                                                        3\n",
       "Hugely delicious, just a joy to drink. So soft and velvety, so rich in blackberry jam, cassis and chocolate flavors, with the tannins so smooth and round. Really wonderful over the next few years, although the softness and high alcohol suggest it's not an ager.                                                      3\n",
       "Seductively tart in lemon pith, cranberry and pomegranate, this refreshing, light-bodied quaff is infinitely enjoyable, both on its own or at the table. It continues to expand on the palate into an increasing array of fresh flavors, finishing in cherry and orange.                                                   3\n",
       "Vibrant and spicy, this savory red delivers aromas and flavors of ripe blackberry, black cherry, ground pepper and chopped Mediterranean herb. Firm, fine-grained tannins support the juicy flavors. An anise note backs up the finish.                                                                                    3\n",
       "This wine shows some of the less appealing aspects of American oak: overt spice and vanilla flavors and a slick, oily mouthfeel.                                                                                                                                                                                           3\n",
       "In 2009 this single vineyard offering includes 11% Sémillon. It has wonderful texture, and a mix of light herbal flavors that run through a gamut from celery to lemongrass and up into tart citrus fruit. The acidity is generous but not searing; it penetrates but never overpowers. A quintessential food wine.        3\n",
       "Sharp, simple and candied, with blackberry jam and cola flavors. The tannins are rugged, and the wine finishes with a scour of acidity. Seems at its best now.                                                                                                                                                             3\n",
       "Lifted pear-drop aromas are accompanied by the peppery green of watercress and arugula. The concentrated palate is grounded by earthy, savory yeast notes and framed by fresh lime peel. There is a dollop of riper pear fruit at the core, shining and shimmering with added charm.                                       3\n",
       "This opens with subtle aromas of wild flower and a whiff of exotic fruit. The bright fruity palate offers white peach, apple and a hint of honeydew melon. It's straightforward and refreshing.                                                                                                                            3\n",
       "This offers aromas and flavors suggesting unripe apricot, peach and lime. The simple palate is a bit raw, but crisp acidity gives it clean, bright finish.                                                                                                                                                                 3\n",
       "Sleek by Amarone standards, this opens with aromas of ripe black cherry, ground pepper, raisin and a whiff of blue flower. On the palate, finely woven tannins support raspberry jam, black pepper, cocoa and a cinnamon note.                                                                                             3\n",
       "Aromas of white flower, green pear and flinty mineral mingle in the glass. The bright palate offers creamy Granny Smith apple, nectarine, sage and a light mineral note. Bright acidity gives it a clean finish.                                                                                                           3\n",
       "The subdued nose eventually reveals black cherry, anise and a whiff of chopped herb that carry over to the straightforward, informal palate. Dusty, drying tannins and a note of bitter sage leave an astringent finish.                                                                                                   3\n",
       "90–92. Barrel sample. This is a solid and dense wine with hints of bitter chocolate along with super-ripe blackberry fruits. The wine has concentration, richness and a fine ageing potential.                                                                                                                             3\n",
       "Aromas of scorched soil, toasted hazelnut, dried black cherry and an earthy whiff of game carry over to the palate along with a note of bitter sage. Firm tannins provide support.                                                                                                                                         3\n",
       "Classically structured, this still needs to open up but already offers aromas of dark berry, menthol, toast, dried herbs and a whiff of cocoa. The firm palate delivers red cherry, raspberry, mocha, tobacco and licorice accompanied by bracing tannins and fresh acidity.                                               3\n",
       "Aromas of citrus, melon and orange blossom start this crisp, elegant white from Cephalonia. On the palate, bright flavors of lemon/lime and white peach are balanced with a stony minerality. A beautiful example of an ancient indigenous variety.                                                                        3\n",
       "Rose, red berry, mint and anise aromas unfold in the glass. The firm palate offers wild cherry, crushed raspberry, clove, anisette and a mocha note framed in bracing tannins and fresh acidity. Drink 2020–2031.                                                                                                          4\n",
       "Almost too much of a good thing, Passo is a thick, jammy and modern blend of traditional Italian grapes and international varieties such as Cabernet Sauvignon and Merlot. This is a bold, big wine with a thick, chewy mouthfeel that should be paired with aged cheese or succulent meat.                                4\n",
       "The tannins are so fierce on this baby Cabernet that they effectively lock it down and make it tough to drink now. Yet there's a fabulous core of blackberries that are rich, ripe and intense. Everything about it suggests ageability. Give it at least eight years in a proper cellar, and it could age even longer.    4\n",
       "Name: description, dtype: int64"
      ]
     },
     "execution_count": 54,
     "metadata": {},
     "output_type": "execute_result"
    }
   ],
   "source": [
    "df.description.value_counts().sort_values()[-25:]"
   ]
  },
  {
   "cell_type": "code",
   "execution_count": 40,
   "metadata": {},
   "outputs": [
    {
     "data": {
      "text/html": [
       "<div>\n",
       "<style scoped>\n",
       "    .dataframe tbody tr th:only-of-type {\n",
       "        vertical-align: middle;\n",
       "    }\n",
       "\n",
       "    .dataframe tbody tr th {\n",
       "        vertical-align: top;\n",
       "    }\n",
       "\n",
       "    .dataframe thead th {\n",
       "        text-align: right;\n",
       "    }\n",
       "</style>\n",
       "<table border=\"1\" class=\"dataframe\">\n",
       "  <thead>\n",
       "    <tr style=\"text-align: right;\">\n",
       "      <th></th>\n",
       "      <th>entry_id</th>\n",
       "      <th>country</th>\n",
       "      <th>description</th>\n",
       "      <th>designation</th>\n",
       "      <th>points</th>\n",
       "      <th>price</th>\n",
       "      <th>province</th>\n",
       "      <th>region</th>\n",
       "      <th>taster_name</th>\n",
       "      <th>title</th>\n",
       "      <th>variety</th>\n",
       "      <th>winery</th>\n",
       "    </tr>\n",
       "  </thead>\n",
       "  <tbody>\n",
       "    <tr>\n",
       "      <th>92859</th>\n",
       "      <td>79217</td>\n",
       "      <td>Italy</td>\n",
       "      <td>Rose, red berry, mint and anise aromas unfold ...</td>\n",
       "      <td>NaN</td>\n",
       "      <td>90</td>\n",
       "      <td>29.0</td>\n",
       "      <td>Piedmont</td>\n",
       "      <td>Barolo</td>\n",
       "      <td>Kerin O’Keefe</td>\n",
       "      <td>Oddero 2011  Barolo</td>\n",
       "      <td>Nebbiolo</td>\n",
       "      <td>Oddero</td>\n",
       "    </tr>\n",
       "    <tr>\n",
       "      <th>92860</th>\n",
       "      <td>79217</td>\n",
       "      <td>Italy</td>\n",
       "      <td>Rose, red berry, mint and anise aromas unfold ...</td>\n",
       "      <td>NaN</td>\n",
       "      <td>90</td>\n",
       "      <td>29.0</td>\n",
       "      <td>Piedmont</td>\n",
       "      <td>Barolo</td>\n",
       "      <td>Kerin O’Keefe</td>\n",
       "      <td>Oddero 2011  Barolo</td>\n",
       "      <td>Nebbiolo</td>\n",
       "      <td>Oddero</td>\n",
       "    </tr>\n",
       "    <tr>\n",
       "      <th>92911</th>\n",
       "      <td>78999</td>\n",
       "      <td>Italy</td>\n",
       "      <td>Rose, red berry, mint and anise aromas unfold ...</td>\n",
       "      <td>NaN</td>\n",
       "      <td>92</td>\n",
       "      <td>64.0</td>\n",
       "      <td>Piedmont</td>\n",
       "      <td>Barolo</td>\n",
       "      <td>Kerin O’Keefe</td>\n",
       "      <td>Cascina Bongiovanni 2011  Barolo</td>\n",
       "      <td>Nebbiolo</td>\n",
       "      <td>Cascina Bongiovanni</td>\n",
       "    </tr>\n",
       "    <tr>\n",
       "      <th>92912</th>\n",
       "      <td>78999</td>\n",
       "      <td>Italy</td>\n",
       "      <td>Rose, red berry, mint and anise aromas unfold ...</td>\n",
       "      <td>NaN</td>\n",
       "      <td>92</td>\n",
       "      <td>64.0</td>\n",
       "      <td>Piedmont</td>\n",
       "      <td>Barolo</td>\n",
       "      <td>Kerin O’Keefe</td>\n",
       "      <td>Cascina Bongiovanni 2011  Barolo</td>\n",
       "      <td>Nebbiolo</td>\n",
       "      <td>Cascina Bongiovanni</td>\n",
       "    </tr>\n",
       "  </tbody>\n",
       "</table>\n",
       "</div>"
      ],
      "text/plain": [
       "       entry_id country                                        description  \\\n",
       "92859     79217   Italy  Rose, red berry, mint and anise aromas unfold ...   \n",
       "92860     79217   Italy  Rose, red berry, mint and anise aromas unfold ...   \n",
       "92911     78999   Italy  Rose, red berry, mint and anise aromas unfold ...   \n",
       "92912     78999   Italy  Rose, red berry, mint and anise aromas unfold ...   \n",
       "\n",
       "      designation  points  price  province  region    taster_name  \\\n",
       "92859         NaN      90   29.0  Piedmont  Barolo  Kerin O’Keefe   \n",
       "92860         NaN      90   29.0  Piedmont  Barolo  Kerin O’Keefe   \n",
       "92911         NaN      92   64.0  Piedmont  Barolo  Kerin O’Keefe   \n",
       "92912         NaN      92   64.0  Piedmont  Barolo  Kerin O’Keefe   \n",
       "\n",
       "                                  title   variety               winery  \n",
       "92859               Oddero 2011  Barolo  Nebbiolo               Oddero  \n",
       "92860               Oddero 2011  Barolo  Nebbiolo               Oddero  \n",
       "92911  Cascina Bongiovanni 2011  Barolo  Nebbiolo  Cascina Bongiovanni  \n",
       "92912  Cascina Bongiovanni 2011  Barolo  Nebbiolo  Cascina Bongiovanni  "
      ]
     },
     "execution_count": 40,
     "metadata": {},
     "output_type": "execute_result"
    }
   ],
   "source": [
    "df[df['description'] == 'Rose, red berry, mint and anise aromas unfold in the glass. The firm palate offers wild cherry, crushed raspberry, clove, anisette and a mocha note framed in bracing tannins and fresh acidity. Drink 2020–2031.']"
   ]
  },
  {
   "cell_type": "code",
   "execution_count": 44,
   "metadata": {},
   "outputs": [
    {
     "data": {
      "text/html": [
       "<div>\n",
       "<style scoped>\n",
       "    .dataframe tbody tr th:only-of-type {\n",
       "        vertical-align: middle;\n",
       "    }\n",
       "\n",
       "    .dataframe tbody tr th {\n",
       "        vertical-align: top;\n",
       "    }\n",
       "\n",
       "    .dataframe thead th {\n",
       "        text-align: right;\n",
       "    }\n",
       "</style>\n",
       "<table border=\"1\" class=\"dataframe\">\n",
       "  <thead>\n",
       "    <tr style=\"text-align: right;\">\n",
       "      <th></th>\n",
       "      <th>entry_id</th>\n",
       "      <th>country</th>\n",
       "      <th>description</th>\n",
       "      <th>designation</th>\n",
       "      <th>points</th>\n",
       "      <th>price</th>\n",
       "      <th>province</th>\n",
       "      <th>region</th>\n",
       "      <th>taster_name</th>\n",
       "      <th>title</th>\n",
       "      <th>variety</th>\n",
       "      <th>winery</th>\n",
       "    </tr>\n",
       "  </thead>\n",
       "  <tbody>\n",
       "    <tr>\n",
       "      <th>116585</th>\n",
       "      <td>115744</td>\n",
       "      <td>Greece</td>\n",
       "      <td>Aromas of citrus, melon and orange blossom sta...</td>\n",
       "      <td>NaN</td>\n",
       "      <td>89</td>\n",
       "      <td>22.0</td>\n",
       "      <td>Cephalonia</td>\n",
       "      <td>NaN</td>\n",
       "      <td>Susan Kostrzewa</td>\n",
       "      <td>Gentilini 2015 Robola (Cephalonia)</td>\n",
       "      <td>Robola</td>\n",
       "      <td>Gentilini</td>\n",
       "    </tr>\n",
       "    <tr>\n",
       "      <th>116957</th>\n",
       "      <td>32876</td>\n",
       "      <td>Greece</td>\n",
       "      <td>Aromas of citrus, melon and orange blossom sta...</td>\n",
       "      <td>NaN</td>\n",
       "      <td>88</td>\n",
       "      <td>15.0</td>\n",
       "      <td>Atalanti Valley</td>\n",
       "      <td>NaN</td>\n",
       "      <td>Susan Kostrzewa</td>\n",
       "      <td>Hatzimichalis 2015 Chardonnay (Atalanti Valley)</td>\n",
       "      <td>Chardonnay</td>\n",
       "      <td>Hatzimichalis</td>\n",
       "    </tr>\n",
       "    <tr>\n",
       "      <th>116958</th>\n",
       "      <td>32876</td>\n",
       "      <td>Greece</td>\n",
       "      <td>Aromas of citrus, melon and orange blossom sta...</td>\n",
       "      <td>NaN</td>\n",
       "      <td>88</td>\n",
       "      <td>15.0</td>\n",
       "      <td>Atalanti Valley</td>\n",
       "      <td>NaN</td>\n",
       "      <td>Susan Kostrzewa</td>\n",
       "      <td>Hatzimichalis 2015 Chardonnay (Atalanti Valley)</td>\n",
       "      <td>Chardonnay</td>\n",
       "      <td>Hatzimichalis</td>\n",
       "    </tr>\n",
       "  </tbody>\n",
       "</table>\n",
       "</div>"
      ],
      "text/plain": [
       "        entry_id country                                        description  \\\n",
       "116585    115744  Greece  Aromas of citrus, melon and orange blossom sta...   \n",
       "116957     32876  Greece  Aromas of citrus, melon and orange blossom sta...   \n",
       "116958     32876  Greece  Aromas of citrus, melon and orange blossom sta...   \n",
       "\n",
       "       designation  points  price         province region      taster_name  \\\n",
       "116585         NaN      89   22.0       Cephalonia    NaN  Susan Kostrzewa   \n",
       "116957         NaN      88   15.0  Atalanti Valley    NaN  Susan Kostrzewa   \n",
       "116958         NaN      88   15.0  Atalanti Valley    NaN  Susan Kostrzewa   \n",
       "\n",
       "                                                  title     variety  \\\n",
       "116585               Gentilini 2015 Robola (Cephalonia)      Robola   \n",
       "116957  Hatzimichalis 2015 Chardonnay (Atalanti Valley)  Chardonnay   \n",
       "116958  Hatzimichalis 2015 Chardonnay (Atalanti Valley)  Chardonnay   \n",
       "\n",
       "               winery  \n",
       "116585      Gentilini  \n",
       "116957  Hatzimichalis  \n",
       "116958  Hatzimichalis  "
      ]
     },
     "execution_count": 44,
     "metadata": {},
     "output_type": "execute_result"
    }
   ],
   "source": [
    "df[df['description'] == 'Aromas of citrus, melon and orange blossom start this crisp, elegant white from Cephalonia. On the palate, bright flavors of lemon/lime and white peach are balanced with a stony minerality. A beautiful example of an ancient indigenous variety.']"
   ]
  },
  {
   "cell_type": "code",
   "execution_count": 55,
   "metadata": {},
   "outputs": [
    {
     "data": {
      "text/html": [
       "<div>\n",
       "<style scoped>\n",
       "    .dataframe tbody tr th:only-of-type {\n",
       "        vertical-align: middle;\n",
       "    }\n",
       "\n",
       "    .dataframe tbody tr th {\n",
       "        vertical-align: top;\n",
       "    }\n",
       "\n",
       "    .dataframe thead th {\n",
       "        text-align: right;\n",
       "    }\n",
       "</style>\n",
       "<table border=\"1\" class=\"dataframe\">\n",
       "  <thead>\n",
       "    <tr style=\"text-align: right;\">\n",
       "      <th></th>\n",
       "      <th>entry_id</th>\n",
       "      <th>country</th>\n",
       "      <th>description</th>\n",
       "      <th>designation</th>\n",
       "      <th>points</th>\n",
       "      <th>price</th>\n",
       "      <th>province</th>\n",
       "      <th>region</th>\n",
       "      <th>taster_name</th>\n",
       "      <th>title</th>\n",
       "      <th>variety</th>\n",
       "      <th>winery</th>\n",
       "    </tr>\n",
       "  </thead>\n",
       "  <tbody>\n",
       "    <tr>\n",
       "      <th>55673</th>\n",
       "      <td>39026</td>\n",
       "      <td>US</td>\n",
       "      <td>This wine shows some of the less appealing asp...</td>\n",
       "      <td>Hargrave  Vineyard</td>\n",
       "      <td>82</td>\n",
       "      <td>14.0</td>\n",
       "      <td>New York</td>\n",
       "      <td>North Fork of Long Island</td>\n",
       "      <td>Joe Czerwinski</td>\n",
       "      <td>Castello di Borghese 1998 Hargrave  Vineyard C...</td>\n",
       "      <td>Chardonnay</td>\n",
       "      <td>Castello di Borghese</td>\n",
       "    </tr>\n",
       "    <tr>\n",
       "      <th>55676</th>\n",
       "      <td>39021</td>\n",
       "      <td>US</td>\n",
       "      <td>This wine shows some of the less appealing asp...</td>\n",
       "      <td>NaN</td>\n",
       "      <td>82</td>\n",
       "      <td>14.0</td>\n",
       "      <td>New York</td>\n",
       "      <td>North Fork of Long Island</td>\n",
       "      <td>Joe Czerwinski</td>\n",
       "      <td>Hargrave 1998 Chardonnay (North Fork of Long I...</td>\n",
       "      <td>Chardonnay</td>\n",
       "      <td>Hargrave</td>\n",
       "    </tr>\n",
       "    <tr>\n",
       "      <th>55677</th>\n",
       "      <td>39021</td>\n",
       "      <td>US</td>\n",
       "      <td>This wine shows some of the less appealing asp...</td>\n",
       "      <td>NaN</td>\n",
       "      <td>82</td>\n",
       "      <td>14.0</td>\n",
       "      <td>New York</td>\n",
       "      <td>North Fork of Long Island</td>\n",
       "      <td>Joe Czerwinski</td>\n",
       "      <td>Hargrave 1998 Chardonnay (North Fork of Long I...</td>\n",
       "      <td>Chardonnay</td>\n",
       "      <td>Hargrave</td>\n",
       "    </tr>\n",
       "  </tbody>\n",
       "</table>\n",
       "</div>"
      ],
      "text/plain": [
       "       entry_id country                                        description  \\\n",
       "55673     39026      US  This wine shows some of the less appealing asp...   \n",
       "55676     39021      US  This wine shows some of the less appealing asp...   \n",
       "55677     39021      US  This wine shows some of the less appealing asp...   \n",
       "\n",
       "              designation  points  price  province                     region  \\\n",
       "55673  Hargrave  Vineyard      82   14.0  New York  North Fork of Long Island   \n",
       "55676                 NaN      82   14.0  New York  North Fork of Long Island   \n",
       "55677                 NaN      82   14.0  New York  North Fork of Long Island   \n",
       "\n",
       "          taster_name                                              title  \\\n",
       "55673  Joe Czerwinski  Castello di Borghese 1998 Hargrave  Vineyard C...   \n",
       "55676  Joe Czerwinski  Hargrave 1998 Chardonnay (North Fork of Long I...   \n",
       "55677  Joe Czerwinski  Hargrave 1998 Chardonnay (North Fork of Long I...   \n",
       "\n",
       "          variety                winery  \n",
       "55673  Chardonnay  Castello di Borghese  \n",
       "55676  Chardonnay              Hargrave  \n",
       "55677  Chardonnay              Hargrave  "
      ]
     },
     "execution_count": 55,
     "metadata": {},
     "output_type": "execute_result"
    }
   ],
   "source": [
    "df[df['description'] == 'This wine shows some of the less appealing aspects of American oak: overt spice and vanilla flavors and a slick, oily mouthfeel.']"
   ]
  },
  {
   "cell_type": "code",
   "execution_count": 11,
   "metadata": {},
   "outputs": [],
   "source": [
    "df = df.drop_duplicates()"
   ]
  },
  {
   "cell_type": "code",
   "execution_count": 12,
   "metadata": {},
   "outputs": [
    {
     "data": {
      "text/html": [
       "<div>\n",
       "<style scoped>\n",
       "    .dataframe tbody tr th:only-of-type {\n",
       "        vertical-align: middle;\n",
       "    }\n",
       "\n",
       "    .dataframe tbody tr th {\n",
       "        vertical-align: top;\n",
       "    }\n",
       "\n",
       "    .dataframe thead th {\n",
       "        text-align: right;\n",
       "    }\n",
       "</style>\n",
       "<table border=\"1\" class=\"dataframe\">\n",
       "  <thead>\n",
       "    <tr style=\"text-align: right;\">\n",
       "      <th></th>\n",
       "      <th>entry_id</th>\n",
       "      <th>country</th>\n",
       "      <th>description</th>\n",
       "      <th>designation</th>\n",
       "      <th>points</th>\n",
       "      <th>price</th>\n",
       "      <th>province</th>\n",
       "      <th>region</th>\n",
       "      <th>taster_name</th>\n",
       "      <th>title</th>\n",
       "      <th>variety</th>\n",
       "      <th>winery</th>\n",
       "    </tr>\n",
       "  </thead>\n",
       "  <tbody>\n",
       "    <tr>\n",
       "      <th>0</th>\n",
       "      <td>119966</td>\n",
       "      <td>Argentina</td>\n",
       "      <td>Raspberry and cassis aromas are fresh and upri...</td>\n",
       "      <td>Pedernal</td>\n",
       "      <td>90</td>\n",
       "      <td>43.0</td>\n",
       "      <td>Other</td>\n",
       "      <td>San Juan</td>\n",
       "      <td>Michael Schachner</td>\n",
       "      <td>Finca Las Moras 2010 Pedernal Malbec (San Juan)</td>\n",
       "      <td>Malbec</td>\n",
       "      <td>Finca Las Moras</td>\n",
       "    </tr>\n",
       "    <tr>\n",
       "      <th>1</th>\n",
       "      <td>119956</td>\n",
       "      <td>Argentina</td>\n",
       "      <td>Compared to the regular 2006 Malbec from Chaka...</td>\n",
       "      <td>Reserve</td>\n",
       "      <td>91</td>\n",
       "      <td>25.0</td>\n",
       "      <td>Mendoza Province</td>\n",
       "      <td>Luján de Cuyo</td>\n",
       "      <td>Michael Schachner</td>\n",
       "      <td>Chakana 2006 Reserve Malbec (Luján de Cuyo)</td>\n",
       "      <td>Malbec</td>\n",
       "      <td>Chakana</td>\n",
       "    </tr>\n",
       "    <tr>\n",
       "      <th>2</th>\n",
       "      <td>119950</td>\n",
       "      <td>Argentina</td>\n",
       "      <td>Andeluna's top wines tend to be ripe and plump...</td>\n",
       "      <td>Pasionado</td>\n",
       "      <td>91</td>\n",
       "      <td>55.0</td>\n",
       "      <td>Mendoza Province</td>\n",
       "      <td>Uco Valley</td>\n",
       "      <td>Michael Schachner</td>\n",
       "      <td>Andeluna 2004 Pasionado Red (Uco Valley)</td>\n",
       "      <td>Red Blend</td>\n",
       "      <td>Andeluna</td>\n",
       "    </tr>\n",
       "    <tr>\n",
       "      <th>3</th>\n",
       "      <td>119943</td>\n",
       "      <td>Argentina</td>\n",
       "      <td>A lively, well-made blend of Tempranillo, Malb...</td>\n",
       "      <td>B Crux</td>\n",
       "      <td>91</td>\n",
       "      <td>24.0</td>\n",
       "      <td>Mendoza Province</td>\n",
       "      <td>Uco Valley</td>\n",
       "      <td>Michael Schachner</td>\n",
       "      <td>O. Fournier 2005 B Crux Red (Uco Valley)</td>\n",
       "      <td>Red Blend</td>\n",
       "      <td>O. Fournier</td>\n",
       "    </tr>\n",
       "    <tr>\n",
       "      <th>4</th>\n",
       "      <td>119939</td>\n",
       "      <td>Argentina</td>\n",
       "      <td>There is a select group of under-$20 Malbecs f...</td>\n",
       "      <td>La Madras Vineyard</td>\n",
       "      <td>91</td>\n",
       "      <td>18.0</td>\n",
       "      <td>Mendoza Province</td>\n",
       "      <td>Mendoza</td>\n",
       "      <td>Michael Schachner</td>\n",
       "      <td>Ricardo Santos 2006 La Madras Vineyard Malbec ...</td>\n",
       "      <td>Malbec</td>\n",
       "      <td>Ricardo Santos</td>\n",
       "    </tr>\n",
       "    <tr>\n",
       "      <th>...</th>\n",
       "      <td>...</td>\n",
       "      <td>...</td>\n",
       "      <td>...</td>\n",
       "      <td>...</td>\n",
       "      <td>...</td>\n",
       "      <td>...</td>\n",
       "      <td>...</td>\n",
       "      <td>...</td>\n",
       "      <td>...</td>\n",
       "      <td>...</td>\n",
       "      <td>...</td>\n",
       "      <td>...</td>\n",
       "    </tr>\n",
       "    <tr>\n",
       "      <th>149902</th>\n",
       "      <td>43</td>\n",
       "      <td>France</td>\n",
       "      <td>This is a festive wine, with soft, ripe fruit ...</td>\n",
       "      <td>Nouveau</td>\n",
       "      <td>86</td>\n",
       "      <td>9.0</td>\n",
       "      <td>Beaujolais</td>\n",
       "      <td>Beaujolais</td>\n",
       "      <td>Roger Voss</td>\n",
       "      <td>Henry Fessy 2012 Nouveau  (Beaujolais)</td>\n",
       "      <td>Gamay</td>\n",
       "      <td>Henry Fessy</td>\n",
       "    </tr>\n",
       "    <tr>\n",
       "      <th>149903</th>\n",
       "      <td>31</td>\n",
       "      <td>France</td>\n",
       "      <td>Red cherry fruit comes laced with light tannin...</td>\n",
       "      <td>Nouveau</td>\n",
       "      <td>86</td>\n",
       "      <td>NaN</td>\n",
       "      <td>Beaujolais</td>\n",
       "      <td>Beaujolais-Villages</td>\n",
       "      <td>Roger Voss</td>\n",
       "      <td>Domaine de la Madone 2012 Nouveau  (Beaujolais...</td>\n",
       "      <td>Gamay</td>\n",
       "      <td>Domaine de la Madone</td>\n",
       "    </tr>\n",
       "    <tr>\n",
       "      <th>149904</th>\n",
       "      <td>12</td>\n",
       "      <td>France</td>\n",
       "      <td>This is a dry wine, very spicy, with a tight, ...</td>\n",
       "      <td>NaN</td>\n",
       "      <td>87</td>\n",
       "      <td>30.0</td>\n",
       "      <td>Alsace</td>\n",
       "      <td>Alsace</td>\n",
       "      <td>Roger Voss</td>\n",
       "      <td>Leon Beyer 2012 Gewurztraminer (Alsace)</td>\n",
       "      <td>Gewürztraminer</td>\n",
       "      <td>Leon Beyer</td>\n",
       "    </tr>\n",
       "    <tr>\n",
       "      <th>149905</th>\n",
       "      <td>10</td>\n",
       "      <td>France</td>\n",
       "      <td>This has great depth of flavor with its fresh ...</td>\n",
       "      <td>Les Natures</td>\n",
       "      <td>87</td>\n",
       "      <td>27.0</td>\n",
       "      <td>Alsace</td>\n",
       "      <td>Alsace</td>\n",
       "      <td>Roger Voss</td>\n",
       "      <td>Jean-Baptiste Adam 2012 Les Natures Pinot Gris...</td>\n",
       "      <td>Pinot Gris</td>\n",
       "      <td>Jean-Baptiste Adam</td>\n",
       "    </tr>\n",
       "    <tr>\n",
       "      <th>149906</th>\n",
       "      <td>8</td>\n",
       "      <td>France</td>\n",
       "      <td>This dry and restrained wine offers spice in p...</td>\n",
       "      <td>NaN</td>\n",
       "      <td>87</td>\n",
       "      <td>24.0</td>\n",
       "      <td>Alsace</td>\n",
       "      <td>Alsace</td>\n",
       "      <td>Roger Voss</td>\n",
       "      <td>Trimbach 2012 Gewurztraminer (Alsace)</td>\n",
       "      <td>Gewürztraminer</td>\n",
       "      <td>Trimbach</td>\n",
       "    </tr>\n",
       "  </tbody>\n",
       "</table>\n",
       "<p>119929 rows × 12 columns</p>\n",
       "</div>"
      ],
      "text/plain": [
       "        entry_id    country   \n",
       "0         119966  Argentina  \\\n",
       "1         119956  Argentina   \n",
       "2         119950  Argentina   \n",
       "3         119943  Argentina   \n",
       "4         119939  Argentina   \n",
       "...          ...        ...   \n",
       "149902        43     France   \n",
       "149903        31     France   \n",
       "149904        12     France   \n",
       "149905        10     France   \n",
       "149906         8     France   \n",
       "\n",
       "                                              description         designation   \n",
       "0       Raspberry and cassis aromas are fresh and upri...            Pedernal  \\\n",
       "1       Compared to the regular 2006 Malbec from Chaka...             Reserve   \n",
       "2       Andeluna's top wines tend to be ripe and plump...           Pasionado   \n",
       "3       A lively, well-made blend of Tempranillo, Malb...              B Crux   \n",
       "4       There is a select group of under-$20 Malbecs f...  La Madras Vineyard   \n",
       "...                                                   ...                 ...   \n",
       "149902  This is a festive wine, with soft, ripe fruit ...             Nouveau   \n",
       "149903  Red cherry fruit comes laced with light tannin...             Nouveau   \n",
       "149904  This is a dry wine, very spicy, with a tight, ...                 NaN   \n",
       "149905  This has great depth of flavor with its fresh ...         Les Natures   \n",
       "149906  This dry and restrained wine offers spice in p...                 NaN   \n",
       "\n",
       "        points  price          province               region   \n",
       "0           90   43.0             Other             San Juan  \\\n",
       "1           91   25.0  Mendoza Province        Luján de Cuyo   \n",
       "2           91   55.0  Mendoza Province           Uco Valley   \n",
       "3           91   24.0  Mendoza Province           Uco Valley   \n",
       "4           91   18.0  Mendoza Province              Mendoza   \n",
       "...        ...    ...               ...                  ...   \n",
       "149902      86    9.0        Beaujolais           Beaujolais   \n",
       "149903      86    NaN        Beaujolais  Beaujolais-Villages   \n",
       "149904      87   30.0            Alsace               Alsace   \n",
       "149905      87   27.0            Alsace               Alsace   \n",
       "149906      87   24.0            Alsace               Alsace   \n",
       "\n",
       "              taster_name                                              title   \n",
       "0       Michael Schachner    Finca Las Moras 2010 Pedernal Malbec (San Juan)  \\\n",
       "1       Michael Schachner        Chakana 2006 Reserve Malbec (Luján de Cuyo)   \n",
       "2       Michael Schachner           Andeluna 2004 Pasionado Red (Uco Valley)   \n",
       "3       Michael Schachner           O. Fournier 2005 B Crux Red (Uco Valley)   \n",
       "4       Michael Schachner  Ricardo Santos 2006 La Madras Vineyard Malbec ...   \n",
       "...                   ...                                                ...   \n",
       "149902         Roger Voss             Henry Fessy 2012 Nouveau  (Beaujolais)   \n",
       "149903         Roger Voss  Domaine de la Madone 2012 Nouveau  (Beaujolais...   \n",
       "149904         Roger Voss            Leon Beyer 2012 Gewurztraminer (Alsace)   \n",
       "149905         Roger Voss  Jean-Baptiste Adam 2012 Les Natures Pinot Gris...   \n",
       "149906         Roger Voss              Trimbach 2012 Gewurztraminer (Alsace)   \n",
       "\n",
       "               variety                winery  \n",
       "0               Malbec       Finca Las Moras  \n",
       "1               Malbec               Chakana  \n",
       "2            Red Blend              Andeluna  \n",
       "3            Red Blend           O. Fournier  \n",
       "4               Malbec        Ricardo Santos  \n",
       "...                ...                   ...  \n",
       "149902           Gamay           Henry Fessy  \n",
       "149903           Gamay  Domaine de la Madone  \n",
       "149904  Gewürztraminer            Leon Beyer  \n",
       "149905      Pinot Gris    Jean-Baptiste Adam  \n",
       "149906  Gewürztraminer              Trimbach  \n",
       "\n",
       "[119929 rows x 12 columns]"
      ]
     },
     "execution_count": 12,
     "metadata": {},
     "output_type": "execute_result"
    }
   ],
   "source": [
    "df"
   ]
  },
  {
   "cell_type": "code",
   "execution_count": 65,
   "metadata": {},
   "outputs": [
    {
     "data": {
      "text/plain": [
       "This fruity, sweet wine is immediately attractive and ripe. With its great apricot and pineapple fruit, hints of spicy wood and balancing acidity, it's perfect as an apéritif—light and refreshing. Drink now.                                                                                                            1\n",
       "Almost too much of a good thing, Passo is a thick, jammy and modern blend of traditional Italian grapes and international varieties such as Cabernet Sauvignon and Merlot. This is a bold, big wine with a thick, chewy mouthfeel that should be paired with aged cheese or succulent meat.                                2\n",
       "Hugely delicious, just a joy to drink. So soft and velvety, so rich in blackberry jam, cassis and chocolate flavors, with the tannins so smooth and round. Really wonderful over the next few years, although the softness and high alcohol suggest it's not an ager.                                                      2\n",
       "Subtle aromas of acacia flower and a whiff of almond lead the way. The round, easygoing palate offers pear, citrus peel and a hint of hazelnut alongside soft acidity.                                                                                                                                                     2\n",
       "90–92. Barrel sample. This is a solid and dense wine with hints of bitter chocolate along with super-ripe blackberry fruits. The wine has concentration, richness and a fine ageing potential.                                                                                                                             2\n",
       "Easygoing and enjoyable, this has aromas of mature black-skinned fruit, violet and an earthy whiff of truffle. The juicy simple palate offers black cherry and a hint of baking spice alongside supple tannins. Drink soon.                                                                                                2\n",
       "Sleek by Amarone standards, this opens with aromas of ripe black cherry, ground pepper, raisin and a whiff of blue flower. On the palate, finely woven tannins support raspberry jam, black pepper, cocoa and a cinnamon note.                                                                                             2\n",
       "Aromas of weedy underbrush, toast, menthol and cherry marinated in spirits emerge in the glass. The palate shows raw sour cherry and a hint of licorice alongside raspy tannins that dry out the finish.                                                                                                                   2\n",
       "Classically structured, this still needs to open up but already offers aromas of dark berry, menthol, toast, dried herbs and a whiff of cocoa. The firm palate delivers red cherry, raspberry, mocha, tobacco and licorice accompanied by bracing tannins and fresh acidity.                                               2\n",
       "The tannins are so fierce on this baby Cabernet that they effectively lock it down and make it tough to drink now. Yet there's a fabulous core of blackberries that are rich, ripe and intense. Everything about it suggests ageability. Give it at least eight years in a proper cellar, and it could age even longer.    2\n",
       "Sharp, simple and candied, with blackberry jam and cola flavors. The tannins are rugged, and the wine finishes with a scour of acidity. Seems at its best now.                                                                                                                                                             2\n",
       "Gravenstein apple, honeysuckle and jasmine aromas show on the relatively boisterous nose of this bottling from a large vineyard on Highway 46 east of Paso Robles. There is compellingly grippy texture to the sip, with ripe flavors of pear and honeydew melon. A salty acidity takes it to the next level.              2\n",
       "This zesty red has pretty aromas that suggest small red berry, blue flower and a whiff of moist soil. The vibrant palate offers sour cherry, pomegranate and a hint of anise alongside zesty acidity and refined tannins.                                                                                                  2\n",
       "Aromas of scorched soil, toasted hazelnut, dried black cherry and an earthy whiff of game carry over to the palate along with a note of bitter sage. Firm tannins provide support.                                                                                                                                         2\n",
       "Seductively tart in lemon pith, cranberry and pomegranate, this refreshing, light-bodied quaff is infinitely enjoyable, both on its own or at the table. It continues to expand on the palate into an increasing array of fresh flavors, finishing in cherry and orange.                                                   2\n",
       "This opens with subtle aromas of wild flower and a whiff of exotic fruit. The bright fruity palate offers white peach, apple and a hint of honeydew melon. It's straightforward and refreshing.                                                                                                                            2\n",
       "Vibrant and spicy, this savory red delivers aromas and flavors of ripe blackberry, black cherry, ground pepper and chopped Mediterranean herb. Firm, fine-grained tannins support the juicy flavors. An anise note backs up the finish.                                                                                    2\n",
       "Lifted pear-drop aromas are accompanied by the peppery green of watercress and arugula. The concentrated palate is grounded by earthy, savory yeast notes and framed by fresh lime peel. There is a dollop of riper pear fruit at the core, shining and shimmering with added charm.                                       2\n",
       "Very ripe and forward in baked fruit or pie-filling flavors of cherries and raspberries, spiced with cinnamon, anise and nutmeg. The wine is a bit simple and is ready to drink now.                                                                                                                                       2\n",
       "Delicate aromas of honeysuckle and pear take shape in the glass. The palate isn't very expressive, but eventually displays light notes of mature yellow apple and dried lemon zest. Drink soon to capture the remaining fruit.                                                                                             2\n",
       "Aromas of citrus, melon and orange blossom start this crisp, elegant white from Cephalonia. On the palate, bright flavors of lemon/lime and white peach are balanced with a stony minerality. A beautiful example of an ancient indigenous variety.                                                                        2\n",
       "This wine shows some of the less appealing aspects of American oak: overt spice and vanilla flavors and a slick, oily mouthfeel.                                                                                                                                                                                           2\n",
       "Aromas of white flower, green pear and flinty mineral mingle in the glass. The bright palate offers creamy Granny Smith apple, nectarine, sage and a light mineral note. Bright acidity gives it a clean finish.                                                                                                           2\n",
       "Subtle aromas of dark berry, tilled earth and baking spice lead the nose. The ripe, juicy palate doles out mature plum, cassis, anise and black pepper alongside round, solid tannins. Drink through 2018.                                                                                                                 2\n",
       "Cigar box, café au lait, and dried tobacco aromas are followed by coffee and cherry flavors, with barrel spices lingering on the finish. The wood gets a bit out front but it still delivers enjoyment.                                                                                                                    2\n",
       "92–94. Barrel sample. With so much spicy fruit, intensely ripe blackberry flavors and solid tannins, all the elements of excellence are here, and powered by a firm structure. This wine has weight and a fine Cabernet concentration.                                                                                     2\n",
       "Rose, red berry, mint and anise aromas unfold in the glass. The firm palate offers wild cherry, crushed raspberry, clove, anisette and a mocha note framed in bracing tannins and fresh acidity. Drink 2020–2031.                                                                                                          2\n",
       "This offers aromas and flavors suggesting unripe apricot, peach and lime. The simple palate is a bit raw, but crisp acidity gives it clean, bright finish.                                                                                                                                                                 2\n",
       "Ripe plum, game, truffle, leather and menthol are some of the aromas you'll find on this earthy wine. The tightly wound palate offers dried black cherry, chopped sage, mint and roasted coffee bean alongside raspy tannins that leave a mouth-drying finish.                                                             2\n",
       "The subdued nose eventually reveals black cherry, anise and a whiff of chopped herb that carry over to the straightforward, informal palate. Dusty, drying tannins and a note of bitter sage leave an astringent finish.                                                                                                   2\n",
       "Stalky aromas suggest hay and green herbs, with raspberry in the backdrop. It's hot and short in terms of mouthfeel, with herbal flavors leading the way and berry fruit running behind. Dry red fruit and herbal notes dominate the finish.                                                                               2\n",
       "Dark berry, toasted hazelnut and menthol aromas lift out of the glass. The tightly wound palate is still rather closed and on the lean side in terms of fruit richness, but slowly reveals sour cherry, licorice and a note of ground pepper. A tannic backbone provides structure.                                        2\n",
       "In 2009 this single vineyard offering includes 11% Sémillon. It has wonderful texture, and a mix of light herbal flavors that run through a gamut from celery to lemongrass and up into tart citrus fruit. The acidity is generous but not searing; it penetrates but never overpowers. A quintessential food wine.        2\n",
       "Green bell pepper, red currant and dark spice aromas lead the nose while the savory palate offers ground black pepper, black cherry, dill and mineral. A blast of blood orange backs up the finish.                                                                                                                        2\n",
       "Name: description, dtype: int64"
      ]
     },
     "execution_count": 65,
     "metadata": {},
     "output_type": "execute_result"
    }
   ],
   "source": [
    "df.description.value_counts().sort_values()[-34:]"
   ]
  },
  {
   "cell_type": "code",
   "execution_count": 66,
   "metadata": {},
   "outputs": [
    {
     "data": {
      "text/html": [
       "<div>\n",
       "<style scoped>\n",
       "    .dataframe tbody tr th:only-of-type {\n",
       "        vertical-align: middle;\n",
       "    }\n",
       "\n",
       "    .dataframe tbody tr th {\n",
       "        vertical-align: top;\n",
       "    }\n",
       "\n",
       "    .dataframe thead th {\n",
       "        text-align: right;\n",
       "    }\n",
       "</style>\n",
       "<table border=\"1\" class=\"dataframe\">\n",
       "  <thead>\n",
       "    <tr style=\"text-align: right;\">\n",
       "      <th></th>\n",
       "      <th>entry_id</th>\n",
       "      <th>country</th>\n",
       "      <th>description</th>\n",
       "      <th>designation</th>\n",
       "      <th>points</th>\n",
       "      <th>price</th>\n",
       "      <th>province</th>\n",
       "      <th>region</th>\n",
       "      <th>taster_name</th>\n",
       "      <th>title</th>\n",
       "      <th>variety</th>\n",
       "      <th>winery</th>\n",
       "    </tr>\n",
       "  </thead>\n",
       "  <tbody>\n",
       "    <tr>\n",
       "      <th>6226</th>\n",
       "      <td>49851</td>\n",
       "      <td>Australia</td>\n",
       "      <td>In 2009 this single vineyard offering includes...</td>\n",
       "      <td>Noble Baron</td>\n",
       "      <td>90</td>\n",
       "      <td>50.0</td>\n",
       "      <td>South Australia</td>\n",
       "      <td>Barossa</td>\n",
       "      <td>Joe Czerwinski</td>\n",
       "      <td>Château Tanunda 2007 Noble Baron Cabernet Sauv...</td>\n",
       "      <td>Cabernet Sauvignon</td>\n",
       "      <td>Château Tanunda</td>\n",
       "    </tr>\n",
       "    <tr>\n",
       "      <th>46200</th>\n",
       "      <td>57238</td>\n",
       "      <td>US</td>\n",
       "      <td>In 2009 this single vineyard offering includes...</td>\n",
       "      <td>Horse Heaven Vineyard</td>\n",
       "      <td>90</td>\n",
       "      <td>15.0</td>\n",
       "      <td>Washington</td>\n",
       "      <td>Horse Heaven Hills</td>\n",
       "      <td>Paul Gregutt</td>\n",
       "      <td>Chateau Ste. Michelle 2009 Horse Heaven Vineya...</td>\n",
       "      <td>Sauvignon Blanc</td>\n",
       "      <td>Chateau Ste. Michelle</td>\n",
       "    </tr>\n",
       "  </tbody>\n",
       "</table>\n",
       "</div>"
      ],
      "text/plain": [
       "       entry_id    country                                        description  \\\n",
       "6226      49851  Australia  In 2009 this single vineyard offering includes...   \n",
       "46200     57238         US  In 2009 this single vineyard offering includes...   \n",
       "\n",
       "                 designation  points  price         province  \\\n",
       "6226             Noble Baron      90   50.0  South Australia   \n",
       "46200  Horse Heaven Vineyard      90   15.0       Washington   \n",
       "\n",
       "                   region     taster_name  \\\n",
       "6226              Barossa  Joe Czerwinski   \n",
       "46200  Horse Heaven Hills    Paul Gregutt   \n",
       "\n",
       "                                                   title             variety  \\\n",
       "6226   Château Tanunda 2007 Noble Baron Cabernet Sauv...  Cabernet Sauvignon   \n",
       "46200  Chateau Ste. Michelle 2009 Horse Heaven Vineya...     Sauvignon Blanc   \n",
       "\n",
       "                      winery  \n",
       "6226         Château Tanunda  \n",
       "46200  Chateau Ste. Michelle  "
      ]
     },
     "execution_count": 66,
     "metadata": {},
     "output_type": "execute_result"
    }
   ],
   "source": [
    "df[df['description'] == 'In 2009 this single vineyard offering includes 11% Sémillon. It has wonderful texture, and a mix of light herbal flavors that run through a gamut from celery to lemongrass and up into tart citrus fruit. The acidity is generous but not searing; it penetrates but never overpowers. A quintessential food wine.']"
   ]
  },
  {
   "cell_type": "code",
   "execution_count": 67,
   "metadata": {},
   "outputs": [
    {
     "data": {
      "text/plain": [
       "entry_id           0\n",
       "country            0\n",
       "description        0\n",
       "designation    34535\n",
       "points             0\n",
       "price           8391\n",
       "province           0\n",
       "region         19501\n",
       "taster_name        0\n",
       "title              0\n",
       "variety            1\n",
       "winery             0\n",
       "dtype: int64"
      ]
     },
     "execution_count": 67,
     "metadata": {},
     "output_type": "execute_result"
    }
   ],
   "source": [
    "df.isnull().sum()"
   ]
  },
  {
   "cell_type": "code",
   "execution_count": 71,
   "metadata": {},
   "outputs": [
    {
     "data": {
      "text/html": [
       "<div>\n",
       "<style scoped>\n",
       "    .dataframe tbody tr th:only-of-type {\n",
       "        vertical-align: middle;\n",
       "    }\n",
       "\n",
       "    .dataframe tbody tr th {\n",
       "        vertical-align: top;\n",
       "    }\n",
       "\n",
       "    .dataframe thead th {\n",
       "        text-align: right;\n",
       "    }\n",
       "</style>\n",
       "<table border=\"1\" class=\"dataframe\">\n",
       "  <thead>\n",
       "    <tr style=\"text-align: right;\">\n",
       "      <th></th>\n",
       "      <th>entry_id</th>\n",
       "      <th>country</th>\n",
       "      <th>description</th>\n",
       "      <th>designation</th>\n",
       "      <th>points</th>\n",
       "      <th>price</th>\n",
       "      <th>province</th>\n",
       "      <th>region</th>\n",
       "      <th>taster_name</th>\n",
       "      <th>title</th>\n",
       "      <th>variety</th>\n",
       "      <th>winery</th>\n",
       "    </tr>\n",
       "  </thead>\n",
       "  <tbody>\n",
       "    <tr>\n",
       "      <th>28</th>\n",
       "      <td>119527</td>\n",
       "      <td>Argentina</td>\n",
       "      <td>Slightly tart and like rhubarb at first, but i...</td>\n",
       "      <td>Aduentus Classic</td>\n",
       "      <td>85</td>\n",
       "      <td>NaN</td>\n",
       "      <td>Mendoza Province</td>\n",
       "      <td>Mendoza</td>\n",
       "      <td>Michael Schachner</td>\n",
       "      <td>Antigal 2006 Aduentus Classic Red (Mendoza)</td>\n",
       "      <td>Red Blend</td>\n",
       "      <td>Antigal</td>\n",
       "    </tr>\n",
       "    <tr>\n",
       "      <th>69</th>\n",
       "      <td>118289</td>\n",
       "      <td>Argentina</td>\n",
       "      <td>A lot of raisin and licorice on the nose hint ...</td>\n",
       "      <td>Alberto Furque</td>\n",
       "      <td>86</td>\n",
       "      <td>NaN</td>\n",
       "      <td>Mendoza Province</td>\n",
       "      <td>Uco Valley</td>\n",
       "      <td>Michael Schachner</td>\n",
       "      <td>Bodega Aconquija 2006 Alberto Furque Syrah (Uc...</td>\n",
       "      <td>Syrah</td>\n",
       "      <td>Bodega Aconquija</td>\n",
       "    </tr>\n",
       "    <tr>\n",
       "      <th>128</th>\n",
       "      <td>116354</td>\n",
       "      <td>Argentina</td>\n",
       "      <td>Plum and light green aromas define the nose on...</td>\n",
       "      <td>Made With Organically Grown Grapes</td>\n",
       "      <td>86</td>\n",
       "      <td>NaN</td>\n",
       "      <td>Mendoza Province</td>\n",
       "      <td>Tupungato</td>\n",
       "      <td>Michael Schachner</td>\n",
       "      <td>Domaine Jean Bousquet 2012 Made With Organical...</td>\n",
       "      <td>Cabernet Sauvignon</td>\n",
       "      <td>Domaine Jean Bousquet</td>\n",
       "    </tr>\n",
       "    <tr>\n",
       "      <th>173</th>\n",
       "      <td>115094</td>\n",
       "      <td>Argentina</td>\n",
       "      <td>Cool, earthy black-fruit aromas hint at leathe...</td>\n",
       "      <td>Blend of Malbecs</td>\n",
       "      <td>90</td>\n",
       "      <td>NaN</td>\n",
       "      <td>Mendoza Province</td>\n",
       "      <td>Mendoza</td>\n",
       "      <td>Michael Schachner</td>\n",
       "      <td>Vicentin 2013 Blend of Malbecs Malbec (Mendoza)</td>\n",
       "      <td>Malbec</td>\n",
       "      <td>Vicentin</td>\n",
       "    </tr>\n",
       "    <tr>\n",
       "      <th>259</th>\n",
       "      <td>113479</td>\n",
       "      <td>Argentina</td>\n",
       "      <td>Berry aromas come with a hint of cheesy oak, s...</td>\n",
       "      <td>Killka Collection</td>\n",
       "      <td>87</td>\n",
       "      <td>NaN</td>\n",
       "      <td>Mendoza Province</td>\n",
       "      <td>Mendoza</td>\n",
       "      <td>Michael Schachner</td>\n",
       "      <td>Salentein 2011 Killka Collection Malbec (Mendoza)</td>\n",
       "      <td>Malbec</td>\n",
       "      <td>Salentein</td>\n",
       "    </tr>\n",
       "    <tr>\n",
       "      <th>...</th>\n",
       "      <td>...</td>\n",
       "      <td>...</td>\n",
       "      <td>...</td>\n",
       "      <td>...</td>\n",
       "      <td>...</td>\n",
       "      <td>...</td>\n",
       "      <td>...</td>\n",
       "      <td>...</td>\n",
       "      <td>...</td>\n",
       "      <td>...</td>\n",
       "      <td>...</td>\n",
       "      <td>...</td>\n",
       "    </tr>\n",
       "    <tr>\n",
       "      <th>149862</th>\n",
       "      <td>318</td>\n",
       "      <td>France</td>\n",
       "      <td>Soft, ripe, dominated by peaches, pears and a ...</td>\n",
       "      <td>NaN</td>\n",
       "      <td>86</td>\n",
       "      <td>NaN</td>\n",
       "      <td>Bordeaux</td>\n",
       "      <td>Bordeaux Blanc</td>\n",
       "      <td>Roger Voss</td>\n",
       "      <td>Château Tour de Mirambeau 2006  Bordeaux Blanc</td>\n",
       "      <td>Bordeaux-style White Blend</td>\n",
       "      <td>Château Tour de Mirambeau</td>\n",
       "    </tr>\n",
       "    <tr>\n",
       "      <th>149864</th>\n",
       "      <td>317</td>\n",
       "      <td>France</td>\n",
       "      <td>An intriguing blend of Sauvignon Blanc and Mus...</td>\n",
       "      <td>Les Amants Mont-Pérat</td>\n",
       "      <td>86</td>\n",
       "      <td>NaN</td>\n",
       "      <td>Bordeaux</td>\n",
       "      <td>Bordeaux Blanc</td>\n",
       "      <td>Roger Voss</td>\n",
       "      <td>Château Mont-Pérat 2008 Les Amants Mont-Pérat ...</td>\n",
       "      <td>Bordeaux-style White Blend</td>\n",
       "      <td>Château Mont-Pérat</td>\n",
       "    </tr>\n",
       "    <tr>\n",
       "      <th>149867</th>\n",
       "      <td>291</td>\n",
       "      <td>France</td>\n",
       "      <td>This is a wine that has great potential—you ca...</td>\n",
       "      <td>NaN</td>\n",
       "      <td>92</td>\n",
       "      <td>NaN</td>\n",
       "      <td>Bordeaux</td>\n",
       "      <td>Saint-Estèphe</td>\n",
       "      <td>Roger Voss</td>\n",
       "      <td>Château Lafon-Rochet 2011  Saint-Estèphe</td>\n",
       "      <td>Bordeaux-style Red Blend</td>\n",
       "      <td>Château Lafon-Rochet</td>\n",
       "    </tr>\n",
       "    <tr>\n",
       "      <th>149877</th>\n",
       "      <td>164</td>\n",
       "      <td>France</td>\n",
       "      <td>Produced from vineyards donated to a charitabl...</td>\n",
       "      <td>Hospices Civils de Romanèche Thurins</td>\n",
       "      <td>91</td>\n",
       "      <td>NaN</td>\n",
       "      <td>Beaujolais</td>\n",
       "      <td>Moulin-à-Vent</td>\n",
       "      <td>Roger Voss</td>\n",
       "      <td>Collin-Bourisset 2011 Hospices Civils de Roman...</td>\n",
       "      <td>Gamay</td>\n",
       "      <td>Collin-Bourisset</td>\n",
       "    </tr>\n",
       "    <tr>\n",
       "      <th>149903</th>\n",
       "      <td>31</td>\n",
       "      <td>France</td>\n",
       "      <td>Red cherry fruit comes laced with light tannin...</td>\n",
       "      <td>Nouveau</td>\n",
       "      <td>86</td>\n",
       "      <td>NaN</td>\n",
       "      <td>Beaujolais</td>\n",
       "      <td>Beaujolais-Villages</td>\n",
       "      <td>Roger Voss</td>\n",
       "      <td>Domaine de la Madone 2012 Nouveau  (Beaujolais...</td>\n",
       "      <td>Gamay</td>\n",
       "      <td>Domaine de la Madone</td>\n",
       "    </tr>\n",
       "  </tbody>\n",
       "</table>\n",
       "<p>8391 rows × 12 columns</p>\n",
       "</div>"
      ],
      "text/plain": [
       "        entry_id    country  \\\n",
       "28        119527  Argentina   \n",
       "69        118289  Argentina   \n",
       "128       116354  Argentina   \n",
       "173       115094  Argentina   \n",
       "259       113479  Argentina   \n",
       "...          ...        ...   \n",
       "149862       318     France   \n",
       "149864       317     France   \n",
       "149867       291     France   \n",
       "149877       164     France   \n",
       "149903        31     France   \n",
       "\n",
       "                                              description  \\\n",
       "28      Slightly tart and like rhubarb at first, but i...   \n",
       "69      A lot of raisin and licorice on the nose hint ...   \n",
       "128     Plum and light green aromas define the nose on...   \n",
       "173     Cool, earthy black-fruit aromas hint at leathe...   \n",
       "259     Berry aromas come with a hint of cheesy oak, s...   \n",
       "...                                                   ...   \n",
       "149862  Soft, ripe, dominated by peaches, pears and a ...   \n",
       "149864  An intriguing blend of Sauvignon Blanc and Mus...   \n",
       "149867  This is a wine that has great potential—you ca...   \n",
       "149877  Produced from vineyards donated to a charitabl...   \n",
       "149903  Red cherry fruit comes laced with light tannin...   \n",
       "\n",
       "                                 designation  points  price          province  \\\n",
       "28                          Aduentus Classic      85    NaN  Mendoza Province   \n",
       "69                            Alberto Furque      86    NaN  Mendoza Province   \n",
       "128       Made With Organically Grown Grapes      86    NaN  Mendoza Province   \n",
       "173                         Blend of Malbecs      90    NaN  Mendoza Province   \n",
       "259                        Killka Collection      87    NaN  Mendoza Province   \n",
       "...                                      ...     ...    ...               ...   \n",
       "149862                                   NaN      86    NaN          Bordeaux   \n",
       "149864                 Les Amants Mont-Pérat      86    NaN          Bordeaux   \n",
       "149867                                   NaN      92    NaN          Bordeaux   \n",
       "149877  Hospices Civils de Romanèche Thurins      91    NaN        Beaujolais   \n",
       "149903                               Nouveau      86    NaN        Beaujolais   \n",
       "\n",
       "                     region        taster_name  \\\n",
       "28                  Mendoza  Michael Schachner   \n",
       "69               Uco Valley  Michael Schachner   \n",
       "128               Tupungato  Michael Schachner   \n",
       "173                 Mendoza  Michael Schachner   \n",
       "259                 Mendoza  Michael Schachner   \n",
       "...                     ...                ...   \n",
       "149862       Bordeaux Blanc         Roger Voss   \n",
       "149864       Bordeaux Blanc         Roger Voss   \n",
       "149867        Saint-Estèphe         Roger Voss   \n",
       "149877        Moulin-à-Vent         Roger Voss   \n",
       "149903  Beaujolais-Villages         Roger Voss   \n",
       "\n",
       "                                                    title  \\\n",
       "28            Antigal 2006 Aduentus Classic Red (Mendoza)   \n",
       "69      Bodega Aconquija 2006 Alberto Furque Syrah (Uc...   \n",
       "128     Domaine Jean Bousquet 2012 Made With Organical...   \n",
       "173       Vicentin 2013 Blend of Malbecs Malbec (Mendoza)   \n",
       "259     Salentein 2011 Killka Collection Malbec (Mendoza)   \n",
       "...                                                   ...   \n",
       "149862     Château Tour de Mirambeau 2006  Bordeaux Blanc   \n",
       "149864  Château Mont-Pérat 2008 Les Amants Mont-Pérat ...   \n",
       "149867           Château Lafon-Rochet 2011  Saint-Estèphe   \n",
       "149877  Collin-Bourisset 2011 Hospices Civils de Roman...   \n",
       "149903  Domaine de la Madone 2012 Nouveau  (Beaujolais...   \n",
       "\n",
       "                           variety                     winery  \n",
       "28                       Red Blend                    Antigal  \n",
       "69                           Syrah           Bodega Aconquija  \n",
       "128             Cabernet Sauvignon      Domaine Jean Bousquet  \n",
       "173                         Malbec                   Vicentin  \n",
       "259                         Malbec                  Salentein  \n",
       "...                            ...                        ...  \n",
       "149862  Bordeaux-style White Blend  Château Tour de Mirambeau  \n",
       "149864  Bordeaux-style White Blend         Château Mont-Pérat  \n",
       "149867    Bordeaux-style Red Blend       Château Lafon-Rochet  \n",
       "149877                       Gamay           Collin-Bourisset  \n",
       "149903                       Gamay       Domaine de la Madone  \n",
       "\n",
       "[8391 rows x 12 columns]"
      ]
     },
     "execution_count": 71,
     "metadata": {},
     "output_type": "execute_result"
    }
   ],
   "source": [
    "df[df['price'].isnull()]"
   ]
  },
  {
   "cell_type": "code",
   "execution_count": 74,
   "metadata": {},
   "outputs": [
    {
     "data": {
      "text/html": [
       "<div>\n",
       "<style scoped>\n",
       "    .dataframe tbody tr th:only-of-type {\n",
       "        vertical-align: middle;\n",
       "    }\n",
       "\n",
       "    .dataframe tbody tr th {\n",
       "        vertical-align: top;\n",
       "    }\n",
       "\n",
       "    .dataframe thead th {\n",
       "        text-align: right;\n",
       "    }\n",
       "</style>\n",
       "<table border=\"1\" class=\"dataframe\">\n",
       "  <thead>\n",
       "    <tr style=\"text-align: right;\">\n",
       "      <th></th>\n",
       "      <th>entry_id</th>\n",
       "      <th>country</th>\n",
       "      <th>description</th>\n",
       "      <th>designation</th>\n",
       "      <th>points</th>\n",
       "      <th>price</th>\n",
       "      <th>province</th>\n",
       "      <th>region</th>\n",
       "      <th>taster_name</th>\n",
       "      <th>title</th>\n",
       "      <th>variety</th>\n",
       "      <th>winery</th>\n",
       "    </tr>\n",
       "  </thead>\n",
       "  <tbody>\n",
       "    <tr>\n",
       "      <th>28</th>\n",
       "      <td>119527</td>\n",
       "      <td>Argentina</td>\n",
       "      <td>Slightly tart and like rhubarb at first, but i...</td>\n",
       "      <td>Aduentus Classic</td>\n",
       "      <td>85</td>\n",
       "      <td>NaN</td>\n",
       "      <td>Mendoza Province</td>\n",
       "      <td>Mendoza</td>\n",
       "      <td>Michael Schachner</td>\n",
       "      <td>Antigal 2006 Aduentus Classic Red (Mendoza)</td>\n",
       "      <td>Red Blend</td>\n",
       "      <td>Antigal</td>\n",
       "    </tr>\n",
       "    <tr>\n",
       "      <th>2760</th>\n",
       "      <td>45407</td>\n",
       "      <td>Argentina</td>\n",
       "      <td>Hedonistic berry, raisin and fig flavors are c...</td>\n",
       "      <td>Aduentus Classic</td>\n",
       "      <td>93</td>\n",
       "      <td>28.0</td>\n",
       "      <td>Mendoza Province</td>\n",
       "      <td>Mendoza</td>\n",
       "      <td>Michael Schachner</td>\n",
       "      <td>Antigal 2010 Aduentus Classic Red (Mendoza)</td>\n",
       "      <td>Red Blend</td>\n",
       "      <td>Antigal</td>\n",
       "    </tr>\n",
       "  </tbody>\n",
       "</table>\n",
       "</div>"
      ],
      "text/plain": [
       "      entry_id    country                                        description  \\\n",
       "28      119527  Argentina  Slightly tart and like rhubarb at first, but i...   \n",
       "2760     45407  Argentina  Hedonistic berry, raisin and fig flavors are c...   \n",
       "\n",
       "           designation  points  price          province   region  \\\n",
       "28    Aduentus Classic      85    NaN  Mendoza Province  Mendoza   \n",
       "2760  Aduentus Classic      93   28.0  Mendoza Province  Mendoza   \n",
       "\n",
       "            taster_name                                        title  \\\n",
       "28    Michael Schachner  Antigal 2006 Aduentus Classic Red (Mendoza)   \n",
       "2760  Michael Schachner  Antigal 2010 Aduentus Classic Red (Mendoza)   \n",
       "\n",
       "        variety   winery  \n",
       "28    Red Blend  Antigal  \n",
       "2760  Red Blend  Antigal  "
      ]
     },
     "execution_count": 74,
     "metadata": {},
     "output_type": "execute_result"
    }
   ],
   "source": [
    "df[df['designation']=='Aduentus Classic']"
   ]
  },
  {
   "attachments": {},
   "cell_type": "markdown",
   "metadata": {},
   "source": [
    "Топ-5 авторов по числу отзывов:"
   ]
  },
  {
   "cell_type": "code",
   "execution_count": 135,
   "metadata": {},
   "outputs": [
    {
     "data": {
      "text/plain": [
       "taster_name\n",
       "Roger Voss           23558\n",
       "Michael Schachner    14039\n",
       "Kerin O’Keefe         9697\n",
       "Paul Gregutt          8867\n",
       "Virginie Boone        8708\n",
       "Name: count, dtype: int64"
      ]
     },
     "execution_count": 135,
     "metadata": {},
     "output_type": "execute_result"
    }
   ],
   "source": [
    "df['taster_name'].value_counts()[1:6]"
   ]
  },
  {
   "attachments": {},
   "cell_type": "markdown",
   "metadata": {},
   "source": [
    "Всего авторов 20:"
   ]
  },
  {
   "cell_type": "code",
   "execution_count": 82,
   "metadata": {},
   "outputs": [
    {
     "data": {
      "text/plain": [
       "20"
      ]
     },
     "execution_count": 82,
     "metadata": {},
     "output_type": "execute_result"
    }
   ],
   "source": [
    "len(df['taster_name'].unique())"
   ]
  },
  {
   "attachments": {},
   "cell_type": "markdown",
   "metadata": {},
   "source": [
    "### 1.3 Эксплораторный анализ"
   ]
  },
  {
   "cell_type": "code",
   "execution_count": 83,
   "metadata": {},
   "outputs": [
    {
     "data": {
      "text/plain": [
       "88.44214493575366"
      ]
     },
     "execution_count": 83,
     "metadata": {},
     "output_type": "execute_result"
    }
   ],
   "source": [
    "df['points'].mean()"
   ]
  },
  {
   "cell_type": "code",
   "execution_count": 84,
   "metadata": {},
   "outputs": [
    {
     "data": {
      "text/plain": [
       "88.0"
      ]
     },
     "execution_count": 84,
     "metadata": {},
     "output_type": "execute_result"
    }
   ],
   "source": [
    "df['points'].median()"
   ]
  },
  {
   "cell_type": "code",
   "execution_count": 85,
   "metadata": {},
   "outputs": [
    {
     "data": {
      "text/plain": [
       "3.0932746182685547"
      ]
     },
     "execution_count": 85,
     "metadata": {},
     "output_type": "execute_result"
    }
   ],
   "source": [
    "df['points'].std()"
   ]
  },
  {
   "cell_type": "code",
   "execution_count": 86,
   "metadata": {},
   "outputs": [
    {
     "data": {
      "text/plain": [
       "35.6261094873496"
      ]
     },
     "execution_count": 86,
     "metadata": {},
     "output_type": "execute_result"
    }
   ],
   "source": [
    "df['price'].mean()"
   ]
  },
  {
   "cell_type": "code",
   "execution_count": 87,
   "metadata": {},
   "outputs": [
    {
     "data": {
      "text/plain": [
       "25.0"
      ]
     },
     "execution_count": 87,
     "metadata": {},
     "output_type": "execute_result"
    }
   ],
   "source": [
    "df['price'].median()"
   ]
  },
  {
   "cell_type": "code",
   "execution_count": 88,
   "metadata": {},
   "outputs": [
    {
     "data": {
      "text/plain": [
       "42.11291028863017"
      ]
     },
     "execution_count": 88,
     "metadata": {},
     "output_type": "execute_result"
    }
   ],
   "source": [
    "df['price'].std()"
   ]
  },
  {
   "cell_type": "code",
   "execution_count": 14,
   "metadata": {},
   "outputs": [],
   "source": [
    "df_new = df.dropna(subset=['points','price'])"
   ]
  },
  {
   "cell_type": "code",
   "execution_count": 102,
   "metadata": {},
   "outputs": [
    {
     "data": {
      "text/plain": [
       "3.099229514464659"
      ]
     },
     "execution_count": 102,
     "metadata": {},
     "output_type": "execute_result"
    }
   ],
   "source": [
    "#df_new['points'].std()"
   ]
  },
  {
   "cell_type": "code",
   "execution_count": 98,
   "metadata": {},
   "outputs": [
    {
     "data": {
      "text/plain": [
       "8391"
      ]
     },
     "execution_count": 98,
     "metadata": {},
     "output_type": "execute_result"
    }
   ],
   "source": [
    "#len(df)-len(df_new) #стереть"
   ]
  },
  {
   "attachments": {},
   "cell_type": "markdown",
   "metadata": {},
   "source": [
    "Так как переменная points измеряется по ранговой шкале, а price по интервальной, то будем вычислять коэффициент корреляции Спирмена:"
   ]
  },
  {
   "cell_type": "code",
   "execution_count": 17,
   "metadata": {},
   "outputs": [
    {
     "data": {
      "text/plain": [
       "SpearmanrResult(correlation=0.6124750550158435, pvalue=0.0)"
      ]
     },
     "execution_count": 17,
     "metadata": {},
     "output_type": "execute_result"
    }
   ],
   "source": [
    "spearmanr(df_new['points'], df_new['price'])"
   ]
  },
  {
   "cell_type": "code",
   "execution_count": 67,
   "metadata": {},
   "outputs": [],
   "source": [
    "df_90 = df[df.points >= 90]"
   ]
  },
  {
   "cell_type": "code",
   "execution_count": 81,
   "metadata": {},
   "outputs": [
    {
     "data": {
      "text/plain": [
       "country   winery            designation                \n",
       "Portugal  Provam            Contradição                     1\n",
       "US        Balletto          Winery Block Estate             1\n",
       "          Ballentine        Pocai Vineyard Estate Grown     1\n",
       "                            Pocai Vineyard                  1\n",
       "                            Estate Grown Old Vines          1\n",
       "                                                           ..\n",
       "France    Joseph Cattin     Hatschbourg Grand Cru          16\n",
       "US        Raymond           District Collection            17\n",
       "France    Roche de Bellene  Vieilles Vignes                17\n",
       "          Tardieu-Laurent   Vieilles Vignes                18\n",
       "US        Novelty Hill      Stillwater Creek Vineyard      33\n",
       "Name: count, Length: 23367, dtype: int64"
      ]
     },
     "execution_count": 81,
     "metadata": {},
     "output_type": "execute_result"
    }
   ],
   "source": [
    "df_90.groupby(by=['country','winery'])['designation'].value_counts().sort_values()"
   ]
  },
  {
   "cell_type": "code",
   "execution_count": 105,
   "metadata": {},
   "outputs": [],
   "source": [
    "words = list(df_90['description'].apply(lambda x: str(x).translate(x.maketrans('','',digits+punctuation))))"
   ]
  },
  {
   "cell_type": "code",
   "execution_count": 107,
   "metadata": {},
   "outputs": [
    {
     "data": {
      "text/plain": [
       "['Raspberry and cassis aromas are fresh and upright while showing wiry grassy accents Full bodied this features a jammy pulpy palate thats fresh but low on definition Herbal lightly green infiltrations drift onto a solid tannic finish Drink through ',\n",
       " 'Compared to the regular  Malbec from Chakana this wine steps up in weight class and wins the crown Its a serious but inviting red with spongey ripe berry aromas topped by pure raspberry cherry and cola flavors Its both racy and composed with a pile of bitter chocolate on the long finish Good through  at least',\n",
       " 'Andelunas top wines tend to be ripe and plump and so they come across as easy to drink and less demanding This blend of Malbec Cabernet Sauvignon Merlot and Cabernet Franc is devoid of astringency and hard tannins Its ripe just a little rugged and integrated such that the berry flavors are forward and dont need to fight to be appreciated',\n",
       " 'A lively wellmade blend of Tempranillo Malbec and Syrah B Crux is a bouncy fresh youngster but still a serious wine with rocksolid black fruit deep chocolate and spicy length Its not super oaky as only half the wine sees new barrels but you can definitely taste some wood Will drink best in –',\n",
       " 'There is a select group of under Malbecs from Argentina that really do the country and the variety proud Santos is one of them the  is easy and ripe on the nose with lovely cola berry and herb aromas The palate has a natural feel and bright blackfruit flavors Not overly complex but a winner for the next year or two',\n",
       " 'This dark meaty Malbec has some Agrelo fruit in it but its mostly from La Consulta and Vista Flores in the Uco Valley Aged in new oak for  months it smells rich smooth and inviting with asphalt mineral violet and coffee aromas The palate has bold acidity and healthy flavors that settle on blackberry and dark chocolate Drink now through ',\n",
       " 'This inky Malbec opens with an oaky blend of vanilla blackberry prune cassis and tobacco aromas A compact firm palate is just lush enough while oakbased flavors of cinnamon and baking spices rest on top of spiced plum and cassis A peppery finish is intermixed with tobacco notes Drink through ',\n",
       " 'Earthy balsamic aromas of cheesy oak blackberry and cassis feed into a saturated tannic palate thats a touch scratchy and abrasive Stewy blackberry and cassis flavors come with a dollop of vanilla and cheese while this ends with muscular grabby tannins Drink this rich heavy Malbec through ',\n",
       " 'Full aromas of toasty oak blackberry and vanilla feed into a saturated hardpointed tartaric palate Flavors of Christmas spice oak and baked black fruits display hints of nutmeg and cola on a blocky hard finish Drink through ',\n",
       " 'This Malbec is exceedingly ripe from start to finish Aromas of blackberry raisin char and loamy earth announce a  heavyweight that holds onto its elegance Flush plump and elastic on the palate this tastes of fig blackberry cassis and mocha Chocolate and woodspice flavors drive a lush dense finish thats a touch hot Drink through ']"
      ]
     },
     "execution_count": 107,
     "metadata": {},
     "output_type": "execute_result"
    }
   ],
   "source": [
    "words[:10]"
   ]
  },
  {
   "cell_type": "code",
   "execution_count": 128,
   "metadata": {},
   "outputs": [],
   "source": [
    "vectorizer = TfidfVectorizer(input='content', ngram_range=(2,3), stop_words='english', max_features=50)"
   ]
  },
  {
   "cell_type": "code",
   "execution_count": 129,
   "metadata": {},
   "outputs": [],
   "source": [
    "X = vectorizer.fit_transform(words)"
   ]
  },
  {
   "cell_type": "code",
   "execution_count": 130,
   "metadata": {},
   "outputs": [
    {
     "data": {
      "text/plain": [
       "array(['age drink', 'age years', 'baking spice', 'berry fruits',\n",
       "       'black cherry', 'black currant', 'black fruit', 'black fruits',\n",
       "       'black pepper', 'black plum', 'blend cabernet',\n",
       "       'blend cabernet sauvignon', 'bright acidity', 'cabernet franc',\n",
       "       'cabernet sauvignon', 'cherry fruit', 'crisp acidity',\n",
       "       'dark chocolate', 'finegrained tannins', 'finish drink',\n",
       "       'firm tannins', 'french oak', 'fresh acidity', 'fruit flavors',\n",
       "       'green apple', 'lingering finish', 'long finish',\n",
       "       'merlot cabernet', 'nose palate', 'palate delivers',\n",
       "       'palate offers', 'petit verdot', 'pinot noir', 'ready drink',\n",
       "       'red berry', 'red cherry', 'red fruit', 'red fruits', 'rich wine',\n",
       "       'ripe black', 'ripe fruit', 'stone fruit', 'structured wine',\n",
       "       'tannins drink', 'white peach', 'white pepper', 'wine offers',\n",
       "       'wine rich', 'wine shows', 'wood aging'], dtype=object)"
      ]
     },
     "execution_count": 130,
     "metadata": {},
     "output_type": "execute_result"
    }
   ],
   "source": [
    "vectorizer.get_feature_names_out()"
   ]
  },
  {
   "attachments": {},
   "cell_type": "markdown",
   "metadata": {},
   "source": [
    "### 1.4 Визуализация данных"
   ]
  },
  {
   "cell_type": "code",
   "execution_count": 23,
   "metadata": {},
   "outputs": [
    {
     "name": "stderr",
     "output_type": "stream",
     "text": [
      "/home/nikinho/miniforge3/lib/python3.10/site-packages/plotnine/stats/stat_bin.py:109: PlotnineWarning: 'stat_bin()' using 'bins = 99'. Pick better value with 'binwidth'.\n"
     ]
    },
    {
     "data": {
      "image/png": "[encoded data removed]",
      "text/plain": [
       "<Figure size 640x480 with 1 Axes>"
      ]
     },
     "metadata": {
      "image/png": {
       "height": 480,
       "width": 640
      }
     },
     "output_type": "display_data"
    },
    {
     "data": {
      "text/plain": [
       "<Figure Size: (640 x 480)>"
      ]
     },
     "execution_count": 23,
     "metadata": {},
     "output_type": "execute_result"
    }
   ],
   "source": [
    "(\n",
    "    ggplot(df)\n",
    "    + aes(x='points')\n",
    "    + stat_bin()\n",
    "    +geom_bar()\n",
    "\n",
    ")"
   ]
  },
  {
   "cell_type": "code",
   "execution_count": 53,
   "metadata": {},
   "outputs": [
    {
     "name": "stderr",
     "output_type": "stream",
     "text": [
      "/home/nikinho/miniforge3/lib/python3.10/site-packages/plotnine/layer.py:284: PlotnineWarning: stat_bin : Removed 9056 rows containing non-finite values.\n",
      "/home/nikinho/miniforge3/lib/python3.10/site-packages/plotnine/layer.py:284: PlotnineWarning: stat_count : Removed 9056 rows containing non-finite values.\n",
      "/home/nikinho/miniforge3/lib/python3.10/site-packages/plotnine/layer.py:364: PlotnineWarning: geom_histogram : Removed 2 rows containing missing values.\n",
      "/home/nikinho/miniforge3/lib/python3.10/site-packages/plotnine/layer.py:364: PlotnineWarning: geom_bar : Removed 1 rows containing missing values.\n"
     ]
    },
    {
     "data": {
      "image/png": "[encoded data removed]",
      "text/plain": [
       "<Figure size 640x480 with 1 Axes>"
      ]
     },
     "metadata": {
      "image/png": {
       "height": 480,
       "width": 640
      }
     },
     "output_type": "display_data"
    },
    {
     "data": {
      "text/plain": [
       "<Figure Size: (640 x 480)>"
      ]
     },
     "execution_count": 53,
     "metadata": {},
     "output_type": "execute_result"
    }
   ],
   "source": [
    "(\n",
    "    ggplot(df)\n",
    "    + aes(x='price')\n",
    "    + stat_bin(bins=40) #(bins=80)\n",
    "    +geom_bar()\n",
    "    +xlim(0,200)\n",
    "\n",
    ")"
   ]
  },
  {
   "cell_type": "code",
   "execution_count": 41,
   "metadata": {},
   "outputs": [
    {
     "name": "stderr",
     "output_type": "stream",
     "text": [
      "/home/nikinho/miniforge3/lib/python3.10/site-packages/plotnine/layer.py:284: PlotnineWarning: stat_boxplot : Removed 665 rows containing non-finite values.\n"
     ]
    },
    {
     "data": {
      "image/png": "[encoded data removed]",
      "text/plain": [
       "<Figure size 640x480 with 1 Axes>"
      ]
     },
     "metadata": {
      "image/png": {
       "height": 480,
       "width": 640
      }
     },
     "output_type": "display_data"
    },
    {
     "data": {
      "text/plain": [
       "<Figure Size: (640 x 480)>"
      ]
     },
     "execution_count": 41,
     "metadata": {},
     "output_type": "execute_result"
    }
   ],
   "source": [
    "(\n",
    "    ggplot(df_new)\n",
    "    + aes(x='factor(points)', y='price')\n",
    "    +geom_boxplot()\n",
    "    +ylim(0, 200)\n",
    "\n",
    ")"
   ]
  }
 ],
 "metadata": {
  "kernelspec": {
   "display_name": "base",
   "language": "python",
   "name": "python3"
  },
  "language_info": {
   "codemirror_mode": {
    "name": "ipython",
    "version": 3
   },
   "file_extension": ".py",
   "mimetype": "text/x-python",
   "name": "python",
   "nbconvert_exporter": "python",
   "pygments_lexer": "ipython3",
   "version": "3.10.6"
  },
  "orig_nbformat": 4
 },
 "nbformat": 4,
 "nbformat_minor": 2
}
